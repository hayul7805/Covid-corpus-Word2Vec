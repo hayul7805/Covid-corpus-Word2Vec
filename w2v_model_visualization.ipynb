{
  "cells": [
    {
      "cell_type": "markdown",
      "metadata": {
        "id": "ZIP9J5YmzBYg"
      },
      "source": [
        "#**Word2Vec 시각화**\n",
        "\n",
        "##차례\n",
        "1. PCA 2D\n",
        "2. t-SNE\n",
        "  1. 3D\n",
        "  2. 2D\n"
      ]
    },
    {
      "cell_type": "markdown",
      "metadata": {
        "id": "jvveAbwi0M6l"
      },
      "source": [
        "\n",
        "\n",
        "---\n",
        "\n"
      ]
    },
    {
      "cell_type": "code",
      "execution_count": null,
      "metadata": {
        "colab": {
          "base_uri": "https://localhost:8080/"
        },
        "id": "TL1b9U0kxnQf",
        "outputId": "4eb86948-f121-43ec-f547-cf43b74e2b3a"
      },
      "outputs": [
        {
          "name": "stdout",
          "output_type": "stream",
          "text": [
            "Mounted at /content/drive\n"
          ]
        }
      ],
      "source": [
        "from google.colab import drive\n",
        "drive.mount('/content/drive')"
      ]
    },
    {
      "cell_type": "code",
      "execution_count": null,
      "metadata": {
        "colab": {
          "base_uri": "https://localhost:8080/"
        },
        "id": "NmrwsgxWxpor",
        "outputId": "c6982368-4220-470e-d4ae-d2dc7a98983d"
      },
      "outputs": [
        {
          "name": "stdout",
          "output_type": "stream",
          "text": [
            "Collecting gensim==4.0.1\n",
            "\u001b[?25l  Downloading https://files.pythonhosted.org/packages/44/52/f1417772965652d4ca6f901515debcd9d6c5430969e8c02ee7737e6de61c/gensim-4.0.1-cp37-cp37m-manylinux1_x86_64.whl (23.9MB)\n",
            "\u001b[K     |████████████████████████████████| 23.9MB 167kB/s \n",
            "\u001b[?25hRequirement already satisfied: numpy>=1.11.3 in /usr/local/lib/python3.7/dist-packages (from gensim==4.0.1) (1.19.5)\n",
            "Requirement already satisfied: smart-open>=1.8.1 in /usr/local/lib/python3.7/dist-packages (from gensim==4.0.1) (5.0.0)\n",
            "Requirement already satisfied: scipy>=0.18.1 in /usr/local/lib/python3.7/dist-packages (from gensim==4.0.1) (1.4.1)\n",
            "Installing collected packages: gensim\n",
            "  Found existing installation: gensim 3.6.0\n",
            "    Uninstalling gensim-3.6.0:\n",
            "      Successfully uninstalled gensim-3.6.0\n",
            "Successfully installed gensim-4.0.1\n"
          ]
        }
      ],
      "source": [
        "pip install gensim==4.0.1"
      ]
    },
    {
      "cell_type": "code",
      "execution_count": null,
      "metadata": {
        "colab": {
          "base_uri": "https://localhost:8080/"
        },
        "id": "lCVlOTjgceiW",
        "outputId": "0c666a98-dc24-4160-fa03-26a8aec62e69"
      },
      "outputs": [
        {
          "name": "stderr",
          "output_type": "stream",
          "text": [
            "/usr/local/lib/python3.7/dist-packages/gensim/similarities/__init__.py:15: UserWarning: The gensim.similarities.levenshtein submodule is disabled, because the optional Levenshtein package <https://pypi.org/project/python-Levenshtein/> is unavailable. Install Levenhstein (e.g. `pip install python-Levenshtein`) to suppress this warning.\n",
            "  warnings.warn(msg)\n"
          ]
        }
      ],
      "source": [
        "from gensim.models import Word2Vec\n",
        "import pickle"
      ]
    },
    {
      "cell_type": "markdown",
      "metadata": {
        "id": "jFp-G_pNcmZP"
      },
      "source": [
        "**한국어/영어 모델을 선택해 실행합니다.**"
      ]
    },
    {
      "cell_type": "code",
      "execution_count": null,
      "metadata": {
        "id": "nG6u2r4oxrRG"
      },
      "outputs": [],
      "source": [
        "#선택 1: 한국어 모델 불러오기\n",
        "with open(\"/content/drive/covid_ko_w2v(tokens).pkl\",\"rb\") as fr: \n",
        "    model = pickle.load(fr)"
      ]
    },
    {
      "cell_type": "code",
      "execution_count": null,
      "metadata": {
        "colab": {
          "base_uri": "https://localhost:8080/"
        },
        "id": "pF1wcMQA4vYO",
        "outputId": "b0e85d5a-4fdb-44ff-8da6-28821502a8ea"
      },
      "outputs": [
        {
          "name": "stderr",
          "output_type": "stream",
          "text": [
            "/usr/local/lib/python3.7/dist-packages/gensim/similarities/__init__.py:15: UserWarning: The gensim.similarities.levenshtein submodule is disabled, because the optional Levenshtein package <https://pypi.org/project/python-Levenshtein/> is unavailable. Install Levenhstein (e.g. `pip install python-Levenshtein`) to suppress this warning.\n",
            "  warnings.warn(msg)\n"
          ]
        }
      ],
      "source": [
        "#선택 2: 모델 불러오기\n",
        "with open(\"/content/drive/covid_en_w2v(tokens).pkl\",\"rb\") as fr: \n",
        "    model = pickle.load(fr)"
      ]
    },
    {
      "cell_type": "markdown",
      "metadata": {
        "id": "NgJoi2Xi0Prb"
      },
      "source": [
        "##**Visualization setting**"
      ]
    },
    {
      "cell_type": "code",
      "execution_count": null,
      "metadata": {
        "id": "T8y_BntgxuUv"
      },
      "outputs": [],
      "source": [
        "from sklearn.manifold import TSNE \n",
        "from sklearn.decomposition import PCA \n",
        "import matplotlib as mpl \n",
        "import matplotlib.pyplot as plt \n",
        "import pandas as pd \n",
        "from gensim.models import KeyedVectors\n",
        "from IPython.display import set_matplotlib_formats\n",
        "import numpy as np\n",
        "import matplotlib.font_manager as fm\n",
        "from collections import Counter\n",
        "import plotly\n",
        "import plotly.graph_objs as go"
      ]
    },
    {
      "cell_type": "markdown",
      "metadata": {
        "id": "lWn0QAsJ0X7V"
      },
      "source": [
        "### **키워드 설정**"
      ]
    },
    {
      "cell_type": "code",
      "execution_count": null,
      "metadata": {
        "id": "GYlltByex9r6"
      },
      "outputs": [],
      "source": [
        "def append_list(sim_words, words):\n",
        "    \n",
        "    list_of_words = []\n",
        "    \n",
        "    for i in range(len(sim_words)):\n",
        "        \n",
        "        sim_words_list = list(sim_words[i])\n",
        "        sim_words_list.append(words)\n",
        "        sim_words_tuple = tuple(sim_words_list)\n",
        "        list_of_words.append(sim_words_tuple)\n",
        "        \n",
        "    return list_of_words\n",
        "\n",
        "input_word = '대통령, 시위, 사재기, 마스크, 백신, 격리, 혐오, 지원금, 여행, 실직' #''안에 키워드들을 입력하세요.\n",
        "user_input = [x.strip() for x in input_word.split(',')]\n",
        "result_word = []\n",
        "    \n",
        "for words in user_input:\n",
        "    \n",
        "        sim_words = model.wv.most_similar(words, topn = 10)\n",
        "        sim_words = append_list(sim_words, words)\n",
        "            \n",
        "        result_word.extend(sim_words)\n",
        "    \n",
        "similar_word = [word[0] for word in result_word]\n",
        "similarity = [word[1] for word in result_word] \n",
        "similar_word.extend(user_input)\n",
        "labels = [word[2] for word in result_word]\n",
        "label_dict = dict([(y,x+1) for x,y in enumerate(set(labels))])\n",
        "color_map = [label_dict[x] for x in labels]"
      ]
    },
    {
      "cell_type": "markdown",
      "metadata": {
        "id": "AstWqm_-0v7I"
      },
      "source": [
        "## **PCA 2D 시각화**"
      ]
    },
    {
      "cell_type": "code",
      "execution_count": null,
      "metadata": {
        "id": "uV4deevh2xr1"
      },
      "outputs": [],
      "source": [
        "def display_pca_scatterplot_3D(model, user_input=None, words=None, label=None, color_map=None, topn=10, sample=10):\n",
        "\n",
        "    if words == None:\n",
        "        if sample > 0:\n",
        "            words = np.random.choice(list(model.index_to_key), sample)\n",
        "        else:\n",
        "            words = [ word for word in model.wv ]\n",
        "\n",
        "    word_vectors = np.array([model.wv[w] for w in words])\n",
        "    \n",
        "    two_dim = PCA(random_state=0).fit_transform(word_vectors)[:,:2]\n",
        "\n",
        "\n",
        "    data = []\n",
        "    count = 0\n",
        "    \n",
        "    for i in range (len(user_input)):\n",
        "\n",
        "                trace = go.Scatter(\n",
        "                    x = two_dim[count:count+topn,0], \n",
        "                    y = two_dim[count:count+topn,1],  \n",
        "                    text = words[count:count+topn],\n",
        "                    name = user_input[i],\n",
        "                    textposition = \"top center\",\n",
        "                    textfont_size = 12,\n",
        "                    mode = 'markers+text',\n",
        "                    marker = {\n",
        "                        'size': 20,\n",
        "                        'opacity': 0.8,\n",
        "                        'color': 2\n",
        "                    }\n",
        "       \n",
        "                )\n",
        "                \n",
        "\n",
        "            \n",
        "                data.append(trace)\n",
        "                count = count+topn\n",
        "\n",
        "    trace_input = go.Scatter(\n",
        "                    x = two_dim[count:,0], \n",
        "                    y = two_dim[count:,1],  \n",
        "                    text = words[count:],\n",
        "                    name = 'input words',\n",
        "                    textposition = \"top center\",\n",
        "                    textfont_size = 12,\n",
        "                    mode = 'markers+text',\n",
        "                    marker = {\n",
        "                        'size': 20,\n",
        "                        'opacity': 1,\n",
        "                        'color': 'black'\n",
        "                    }\n",
        "                    )\n",
        "\n",
        "\n",
        "            \n",
        "    data.append(trace_input)\n",
        "    \n",
        "# Configure the layout\n",
        "\n",
        "    layout = go.Layout(\n",
        "        margin = {'l': 0, 'r': 0, 'b': 0, 't': 0},\n",
        "        showlegend=True,\n",
        "        legend=dict(\n",
        "        x=1,\n",
        "        y=0.5,\n",
        "        font=dict(\n",
        "            family=\"Malgun Gothic\",\n",
        "            size=25,\n",
        "            color=\"black\"\n",
        "        )),\n",
        "        font = dict(\n",
        "            family = \" Malgun Gothic \",\n",
        "            size = 15),\n",
        "        autosize = False,\n",
        "        width = 2000,\n",
        "        height = 2000\n",
        "        )\n",
        "\n",
        "\n",
        "    plot_figure = go.Figure(data = data, layout = layout)\n",
        "    plot_figure.show()"
      ]
    },
    {
      "cell_type": "code",
      "execution_count": null,
      "metadata": {
        "colab": {
          "base_uri": "https://localhost:8080/",
          "height": 1000
        },
        "id": "E7HxHdTw3oXK",
        "outputId": "dfeb1197-285b-40da-c026-6f1a86229310"
      },
      "outputs": [
        {
          "data": {
            "text/html": [
              "<html>\n",
              "<head><meta charset=\"utf-8\" /></head>\n",
              "<body>\n",
              "    <div>\n",
              "            <script src=\"https://cdnjs.cloudflare.com/ajax/libs/mathjax/2.7.5/MathJax.js?config=TeX-AMS-MML_SVG\"></script><script type=\"text/javascript\">if (window.MathJax) {MathJax.Hub.Config({SVG: {font: \"STIX-Web\"}});}</script>\n",
              "                <script type=\"text/javascript\">window.PlotlyConfig = {MathJaxConfig: 'local'};</script>\n",
              "        <script src=\"https://cdn.plot.ly/plotly-latest.min.js\"></script>    \n",
              "            <div id=\"da8806c0-65d7-41f5-a161-20bc166b9e44\" class=\"plotly-graph-div\" style=\"height:2000px; width:2000px;\"></div>\n",
              "            <script type=\"text/javascript\">\n",
              "                \n",
              "                    window.PLOTLYENV=window.PLOTLYENV || {};\n",
              "                    \n",
              "                if (document.getElementById(\"da8806c0-65d7-41f5-a161-20bc166b9e44\")) {\n",
              "                    Plotly.newPlot(\n",
              "                        'da8806c0-65d7-41f5-a161-20bc166b9e44',\n",
              "                        [{\"marker\": {\"color\": 2, \"opacity\": 0.8, \"size\": 20}, \"mode\": \"markers+text\", \"name\": \"\\ub300\\ud1b5\\ub839\", \"text\": [\"\\ubb38\\uc7ac\\uc778\", \"\\ud2b8\\ub7fc\\ud504\", \"\\ub3c4\\ub110\\ub4dc\", \"\\ubc14\\uc774\\ub4e0\", \"\\ubd80\\ud1b5\\ub839\", \"\\ubb38\\uc7ac\", \"\\ub9c8\\ud06c\\ub871\", \"\\ud478\\ud2f4\", \"\\ub2f9\\uc120\\uc778\", \"\\ub2c8\\ub2c8\\uc2a4\\ud1f4\"], \"textfont\": {\"size\": 12}, \"textposition\": \"top center\", \"type\": \"scatter\", \"x\": [-1.1653550863265991, -1.7994378805160522, -1.8519608974456787, -1.5556845664978027, -1.5253177881240845, -1.2338231801986694, -1.5395265817642212, -1.4578156471252441, -1.196297526359558, -0.7499383091926575], \"y\": [-0.13504670560359955, 0.24610361456871033, 0.3434552848339081, 0.24793143570423126, 0.3233222961425781, 0.12376517057418823, 0.20826523005962372, 0.5999815464019775, 0.375590056180954, 0.05073093622922897]}, {\"marker\": {\"color\": 2, \"opacity\": 0.8, \"size\": 20}, \"mode\": \"markers+text\", \"name\": \"\\uc2dc\\uc704\", \"text\": [\"\\ubc18\\uc815\\ubd80\", \"\\uc2dc\\uc704\\ub300\", \"\\uc2dc\\uc704\\uc790\", \"\\uc9d1\\ud68c\", \"\\ud3ed\\ub3d9\", \"\\uac00\\ub450\\uc2dc\\uc704\", \"\\uae30\\ub150\\uc9d1\\ud68c\", \"\\ud658\\ubc95\", \"\\uc720\\ud608\", \"\\uc5f0\\uc88c\\uc2dc\\uc704\"], \"textfont\": {\"size\": 12}, \"textposition\": \"top center\", \"type\": \"scatter\", \"x\": [-1.725001335144043, -1.955855131149292, -1.8087881803512573, -0.7205579280853271, -1.655434012413025, -0.8666785955429077, -0.926116406917572, -1.4269741773605347, -1.5279260873794556, -0.8775674700737], \"y\": [-1.2530773878097534, -0.7885679602622986, -0.9023045301437378, -0.7575341463088989, -1.3131738901138306, -0.6539449095726013, -1.0566434860229492, -1.340241551399231, -1.6657350063323975, -0.750478208065033]}, {\"marker\": {\"color\": 2, \"opacity\": 0.8, \"size\": 20}, \"mode\": \"markers+text\", \"name\": \"\\uc0ac\\uc7ac\\uae30\", \"text\": [\"\\uc0ac\\uc7ac\", \"\\ud3ed\\ub9ac\", \"\\ub9e4\\uc810\\ub9e4\\uc11d\", \"\\ud654\\uc7a5\\uc9c0\", \"\\ud488\\uadc0\", \"\\u8ce3\\u60dc\", \"\\ub418\\ud314\\uae30\", \"\\u8cb7\\u5360\", \"\\uc0dd\\ud544\\ud488\", \"\\ub300\\ub780\"], \"textfont\": {\"size\": 12}, \"textposition\": \"top center\", \"type\": \"scatter\", \"x\": [-0.18247027695178986, -0.008092769421637058, 0.027440251782536507, -0.12879076600074768, -0.11310972273349762, -0.3819248080253601, -0.2950035035610199, -0.2123676836490631, 0.46159085631370544, -0.06874608248472214], \"y\": [0.40259626507759094, 0.3540416359901428, 0.3523617088794708, 0.4220818877220154, 0.3541634976863861, -0.07658256590366364, -0.16850003600120544, 0.013507813215255737, 0.2587503492832184, -0.2258358895778656]}, {\"marker\": {\"color\": 2, \"opacity\": 0.8, \"size\": 20}, \"mode\": \"markers+text\", \"name\": \"\\ub9c8\\uc2a4\\ud06c\", \"text\": [\"\\ub9c8\\ud06c\\uc2a4\", \"kf\", \"\\uc77c\\ud68c\\uc6a9\", \"\\uc190\\uc18c\", \"\\ucc29\\uc6a9\", \"\\ub3c5\\uc81c\", \"\\uc138\\uc815\\uc81c\", \"\\uc7a5\\uac11\", \"\\uac00\\ub9ac\\uac1c\", \"\\ubc29\\ud638\\ubcf5\"], \"textfont\": {\"size\": 12}, \"textposition\": \"top center\", \"type\": \"scatter\", \"x\": [-0.32929468154907227, 0.8604320883750916, 0.5874050259590149, 0.8110429048538208, 0.0023147009778767824, 0.9550068974494934, 0.5722362995147705, 0.5587048530578613, 0.04292294755578041, 0.430356502532959], \"y\": [1.5466238260269165, 1.3115378618240356, 0.7390833497047424, 0.9553501009941101, 0.348701536655426, 0.9892027974128723, 0.9308890104293823, 0.7898503541946411, 0.6502256989479065, 0.7926896810531616]}, {\"marker\": {\"color\": 2, \"opacity\": 0.8, \"size\": 20}, \"mode\": \"markers+text\", \"name\": \"\\ubc31\\uc2e0\", \"text\": [\"\\ud654\\uc774\\uc790\", \"\\uc811\\uc885\", \"\\ubaa8\\ub354\", \"\\uce58\\ub8cc\\uc81c\", \"\\uc784\\uc0c1\\uc2dc\\ud5d8\", \"\\ubc29\\ubc31\\uc2e0\", \"mrna\", \"\\uc544\\uc2a4\\ud2b8\\ub77c\", \"\\uc81c\\uc57d\\uc0ac\", \"\\uc2a4\\ud478\\ud2b8\\ub2c8\\ud06c\"], \"textfont\": {\"size\": 12}, \"textposition\": \"top center\", \"type\": \"scatter\", \"x\": [-0.14652150869369507, 0.40622466802597046, -0.19323275983333588, -0.0746302455663681, 0.08022724092006683, 0.20180277526378632, -0.32392698526382446, -0.5605157017707825, -0.6104192137718201, -0.7527329325675964], \"y\": [3.448704242706299, 1.8331115245819092, 3.548598527908325, 2.3161721229553223, 2.3853347301483154, 2.190976858139038, 2.6275761127471924, 3.3096790313720703, 2.6258950233459473, 2.576359272003174]}, {\"marker\": {\"color\": 2, \"opacity\": 0.8, \"size\": 20}, \"mode\": \"markers+text\", \"name\": \"\\uaca9\\ub9ac\", \"text\": [\"\\uc785\\uc6d0\", \"\\ud1f4\\uc6d0\", \"\\ucf54\\ud638\\ud2b8\", \"\\ub9ac\\uc790\", \"\\uaca9\\uce58\", \"\\ud1f4\\uc18c\", \"\\ud574\\uc81c\", \"\\uc774\\uc1a1\", \"\\uc790\\ud0dd\", \"\\uc785\\uc18c\"], \"textfont\": {\"size\": 12}, \"textposition\": \"top center\", \"type\": \"scatter\", \"x\": [0.9081420302391052, 0.7846943736076355, 0.7049262523651123, 0.7088932991027832, 0.5946314930915833, 0.5826727151870728, 0.46547725796699524, 0.7581984400749207, 0.3606601655483246, 0.6951170563697815], \"y\": [0.06443687528371811, -0.01558693591505289, 0.11474993079900742, 0.003072305116802454, -0.19089235365390778, -0.7310162782669067, -0.452947735786438, 0.19644448161125183, -0.4761505126953125, -0.26695358753204346]}, {\"marker\": {\"color\": 2, \"opacity\": 0.8, \"size\": 20}, \"mode\": \"markers+text\", \"name\": \"\\ud610\\uc624\", \"text\": [\"\\uc99d\\uc624\", \"\\uc778\\uc885\\uc8fc\\uc758\", \"\\ub099\\uc778\\ucc0d\", \"\\ud3b8\\uacac\", \"\\ud610\\uc624\\uc99d\", \"\\uc544\\uc2dc\\uc544\\uc778\", \"\\uc778\\uc885\", \"\\ud610\\uc624\\uac10\", \"\\ubc30\\ucc99\", \"\\uc18c\\uc218\\uc790\"], \"textfont\": {\"size\": 12}, \"textposition\": \"top center\", \"type\": \"scatter\", \"x\": [-1.9281035661697388, -1.8986830711364746, -1.4239975214004517, -1.2845643758773804, -1.6505844593048096, -1.763757586479187, -1.959350824356079, -1.4574941396713257, -1.2219806909561157, -1.0256929397583008], \"y\": [-1.3062355518341064, -0.9924478530883789, -0.7922275066375732, -0.9600305557250977, -0.9210312366485596, -0.6839691996574402, -1.1833378076553345, -1.02982759475708, -0.9460880756378174, -1.145376443862915]}, {\"marker\": {\"color\": 2, \"opacity\": 0.8, \"size\": 20}, \"mode\": \"markers+text\", \"name\": \"\\uc9c0\\uc6d0\\uae08\", \"text\": [\"\\uc9c0\\uae09\", \"\\uc7ac\\ub09c\", \"\\ub09c\\uae08\", \"\\uae30\\ubcf8\\uc18c\\ub4dd\", \"\\uc0dd\\uacc4\\ube44\", \"\\uc9c0\\uae09\\uc2dc\", \"\\uc120\\ubd88\\uce74\\ub4dc\", \"\\ucd94\\uacbd\", \"\\ubcf4\\uc870\\uae08\", \"\\uc0dd\\ud65c\\ube44\"], \"textfont\": {\"size\": 12}, \"textposition\": \"top center\", \"type\": \"scatter\", \"x\": [1.9046698808670044, 1.164875864982605, 1.387986421585083, 1.0179880857467651, 2.6748366355895996, 1.4648184776306152, 1.9330945014953613, 1.1063214540481567, 1.005874514579773, 2.111586809158325], \"y\": [-0.2615792453289032, -0.14639727771282196, -0.021100707352161407, -0.2946573495864868, -0.7888083457946777, -0.53543621301651, 0.011379939503967762, 0.21836978197097778, -0.4098999500274658, -0.8676304221153259]}, {\"marker\": {\"color\": 2, \"opacity\": 0.8, \"size\": 20}, \"mode\": \"markers+text\", \"name\": \"\\uc5ec\\ud589\", \"text\": [\"\\ud574\\uc678\\uc5ec\\ud589\", \"\\uc5ec\\ud589\\uc790\", \"\\uc5ec\\ud589\\uc9c0\", \"\\uc5ec\\ud589\\uac1d\", \"\\uad00\\uad11\", \"\\ud5c8\\ub2c8\\ubb38\", \"\\ud328\\ud0a4\\uc9c0\\uc5ec\\ud589\", \"\\ub2e4\\ub140\\uc634\", \"\\uac15\\ubbf8\\uc2b9\", \"\\uc591\\uc601\\ud6c8\"], \"textfont\": {\"size\": 12}, \"textposition\": \"top center\", \"type\": \"scatter\", \"x\": [0.4091539978981018, 0.05497191846370697, 0.2108590304851532, -0.10192178189754486, 0.3751327395439148, 0.4259450435638428, 0.24266396462917328, -0.0684904083609581, -0.18743132054805756, -0.1480342149734497], \"y\": [-0.3695981800556183, -0.3683106303215027, -0.09889283776283264, -0.5340800285339355, -0.5655882954597473, -0.2668486535549164, -0.3346446752548218, -0.31599074602127075, -0.45941054821014404, -0.19871483743190765]}, {\"marker\": {\"color\": 2, \"opacity\": 0.8, \"size\": 20}, \"mode\": \"markers+text\", \"name\": \"\\uc2e4\\uc9c1\", \"text\": [\"\\uc2e4\\uc9c1\\uc790\", \"\\ud734\\ud3d0\", \"\\uc2e4\\uc5c5\\uc790\", \"\\uc2e4\\uc5c5\", \"\\ud3d0\\uc5c5\", \"\\ud574\\uace0\", \"\\ud734\\uc9c1\", \"\\ubb34\\uae09\", \"\\uad8c\\uace0\\uc0ac\\uc9c1\", \"\\uc0dd\\uacc4\"], \"textfont\": {\"size\": 12}, \"textposition\": \"top center\", \"type\": \"scatter\", \"x\": [1.9213443994522095, 2.3556039333343506, 1.268747091293335, 1.1843349933624268, 1.7575345039367676, 0.9316670894622803, 2.5609517097473145, 2.5007708072662354, 1.7273039817810059, 1.9948365688323975], \"y\": [-0.8554644584655762, -1.141770839691162, -0.8788946270942688, -0.7061323523521423, -1.0741076469421387, -1.2720386981964111, -0.9535948038101196, -0.9606838226318359, -1.2568672895431519, -1.044552206993103]}, {\"marker\": {\"color\": \"black\", \"opacity\": 1, \"size\": 20}, \"mode\": \"markers+text\", \"name\": \"input words\", \"text\": [\"\\ub300\\ud1b5\\ub839\", \"\\uc2dc\\uc704\", \"\\uc0ac\\uc7ac\\uae30\", \"\\ub9c8\\uc2a4\\ud06c\", \"\\ubc31\\uc2e0\", \"\\uaca9\\ub9ac\", \"\\ud610\\uc624\", \"\\uc9c0\\uc6d0\\uae08\", \"\\uc5ec\\ud589\", \"\\uc2e4\\uc9c1\"], \"textfont\": {\"size\": 12}, \"textposition\": \"top center\", \"type\": \"scatter\", \"x\": [-1.3169397115707397, -1.6562293767929077, -0.49319949746131897, 0.42780548334121704, -0.310764878988266, 0.7301496267318726, -1.614254355430603, 2.025022506713867, 0.3764740526676178, 1.6448633670806885], \"y\": [0.009077039547264576, -1.2513971328735352, 0.21776729822158813, 0.8632053136825562, 2.727865695953369, -0.47544896602630615, -1.3579350709915161, -0.232915997505188, -0.4683254361152649, -1.0700732469558716]}],\n",
              "                        {\"autosize\": false, \"font\": {\"family\": \" Malgun Gothic \", \"size\": 15}, \"height\": 2000, \"legend\": {\"font\": {\"color\": \"black\", \"family\": \"Malgun Gothic\", \"size\": 25}, \"x\": 1, \"y\": 0.5}, \"margin\": {\"b\": 0, \"l\": 0, \"r\": 0, \"t\": 0}, \"showlegend\": true, \"template\": {\"data\": {\"bar\": [{\"error_x\": {\"color\": \"#2a3f5f\"}, \"error_y\": {\"color\": \"#2a3f5f\"}, \"marker\": {\"line\": {\"color\": \"#E5ECF6\", \"width\": 0.5}}, \"type\": \"bar\"}], \"barpolar\": [{\"marker\": {\"line\": {\"color\": \"#E5ECF6\", \"width\": 0.5}}, \"type\": \"barpolar\"}], \"carpet\": [{\"aaxis\": {\"endlinecolor\": \"#2a3f5f\", \"gridcolor\": \"white\", \"linecolor\": \"white\", \"minorgridcolor\": \"white\", \"startlinecolor\": \"#2a3f5f\"}, \"baxis\": {\"endlinecolor\": \"#2a3f5f\", \"gridcolor\": \"white\", \"linecolor\": \"white\", \"minorgridcolor\": \"white\", \"startlinecolor\": \"#2a3f5f\"}, \"type\": \"carpet\"}], \"choropleth\": [{\"colorbar\": {\"outlinewidth\": 0, \"ticks\": \"\"}, \"type\": \"choropleth\"}], \"contour\": [{\"colorbar\": {\"outlinewidth\": 0, \"ticks\": \"\"}, \"colorscale\": [[0.0, \"#0d0887\"], [0.1111111111111111, \"#46039f\"], [0.2222222222222222, \"#7201a8\"], [0.3333333333333333, \"#9c179e\"], [0.4444444444444444, \"#bd3786\"], [0.5555555555555556, \"#d8576b\"], [0.6666666666666666, \"#ed7953\"], [0.7777777777777778, \"#fb9f3a\"], [0.8888888888888888, \"#fdca26\"], [1.0, \"#f0f921\"]], \"type\": \"contour\"}], \"contourcarpet\": [{\"colorbar\": {\"outlinewidth\": 0, \"ticks\": \"\"}, \"type\": \"contourcarpet\"}], \"heatmap\": [{\"colorbar\": {\"outlinewidth\": 0, \"ticks\": \"\"}, \"colorscale\": [[0.0, \"#0d0887\"], [0.1111111111111111, \"#46039f\"], [0.2222222222222222, \"#7201a8\"], [0.3333333333333333, \"#9c179e\"], [0.4444444444444444, \"#bd3786\"], [0.5555555555555556, \"#d8576b\"], [0.6666666666666666, \"#ed7953\"], [0.7777777777777778, \"#fb9f3a\"], [0.8888888888888888, \"#fdca26\"], [1.0, \"#f0f921\"]], \"type\": \"heatmap\"}], \"heatmapgl\": [{\"colorbar\": {\"outlinewidth\": 0, \"ticks\": \"\"}, \"colorscale\": [[0.0, \"#0d0887\"], [0.1111111111111111, \"#46039f\"], [0.2222222222222222, \"#7201a8\"], [0.3333333333333333, \"#9c179e\"], [0.4444444444444444, \"#bd3786\"], [0.5555555555555556, \"#d8576b\"], [0.6666666666666666, \"#ed7953\"], [0.7777777777777778, \"#fb9f3a\"], [0.8888888888888888, \"#fdca26\"], [1.0, \"#f0f921\"]], \"type\": \"heatmapgl\"}], \"histogram\": [{\"marker\": {\"colorbar\": {\"outlinewidth\": 0, \"ticks\": \"\"}}, \"type\": \"histogram\"}], \"histogram2d\": [{\"colorbar\": {\"outlinewidth\": 0, \"ticks\": \"\"}, \"colorscale\": [[0.0, \"#0d0887\"], [0.1111111111111111, \"#46039f\"], [0.2222222222222222, \"#7201a8\"], [0.3333333333333333, \"#9c179e\"], [0.4444444444444444, \"#bd3786\"], [0.5555555555555556, \"#d8576b\"], [0.6666666666666666, \"#ed7953\"], [0.7777777777777778, \"#fb9f3a\"], [0.8888888888888888, \"#fdca26\"], [1.0, \"#f0f921\"]], \"type\": \"histogram2d\"}], \"histogram2dcontour\": [{\"colorbar\": {\"outlinewidth\": 0, \"ticks\": \"\"}, \"colorscale\": [[0.0, \"#0d0887\"], [0.1111111111111111, \"#46039f\"], [0.2222222222222222, \"#7201a8\"], [0.3333333333333333, \"#9c179e\"], [0.4444444444444444, \"#bd3786\"], [0.5555555555555556, \"#d8576b\"], [0.6666666666666666, \"#ed7953\"], [0.7777777777777778, \"#fb9f3a\"], [0.8888888888888888, \"#fdca26\"], [1.0, \"#f0f921\"]], \"type\": \"histogram2dcontour\"}], \"mesh3d\": [{\"colorbar\": {\"outlinewidth\": 0, \"ticks\": \"\"}, \"type\": \"mesh3d\"}], \"parcoords\": [{\"line\": {\"colorbar\": {\"outlinewidth\": 0, \"ticks\": \"\"}}, \"type\": \"parcoords\"}], \"pie\": [{\"automargin\": true, \"type\": \"pie\"}], \"scatter\": [{\"marker\": {\"colorbar\": {\"outlinewidth\": 0, \"ticks\": \"\"}}, \"type\": \"scatter\"}], \"scatter3d\": [{\"line\": {\"colorbar\": {\"outlinewidth\": 0, \"ticks\": \"\"}}, \"marker\": {\"colorbar\": {\"outlinewidth\": 0, \"ticks\": \"\"}}, \"type\": \"scatter3d\"}], \"scattercarpet\": [{\"marker\": {\"colorbar\": {\"outlinewidth\": 0, \"ticks\": \"\"}}, \"type\": \"scattercarpet\"}], \"scattergeo\": [{\"marker\": {\"colorbar\": {\"outlinewidth\": 0, \"ticks\": \"\"}}, \"type\": \"scattergeo\"}], \"scattergl\": [{\"marker\": {\"colorbar\": {\"outlinewidth\": 0, \"ticks\": \"\"}}, \"type\": \"scattergl\"}], \"scattermapbox\": [{\"marker\": {\"colorbar\": {\"outlinewidth\": 0, \"ticks\": \"\"}}, \"type\": \"scattermapbox\"}], \"scatterpolar\": [{\"marker\": {\"colorbar\": {\"outlinewidth\": 0, \"ticks\": \"\"}}, \"type\": \"scatterpolar\"}], \"scatterpolargl\": [{\"marker\": {\"colorbar\": {\"outlinewidth\": 0, \"ticks\": \"\"}}, \"type\": \"scatterpolargl\"}], \"scatterternary\": [{\"marker\": {\"colorbar\": {\"outlinewidth\": 0, \"ticks\": \"\"}}, \"type\": \"scatterternary\"}], \"surface\": [{\"colorbar\": {\"outlinewidth\": 0, \"ticks\": \"\"}, \"colorscale\": [[0.0, \"#0d0887\"], [0.1111111111111111, \"#46039f\"], [0.2222222222222222, \"#7201a8\"], [0.3333333333333333, \"#9c179e\"], [0.4444444444444444, \"#bd3786\"], [0.5555555555555556, \"#d8576b\"], [0.6666666666666666, \"#ed7953\"], [0.7777777777777778, \"#fb9f3a\"], [0.8888888888888888, \"#fdca26\"], [1.0, \"#f0f921\"]], \"type\": \"surface\"}], \"table\": [{\"cells\": {\"fill\": {\"color\": \"#EBF0F8\"}, \"line\": {\"color\": \"white\"}}, \"header\": {\"fill\": {\"color\": \"#C8D4E3\"}, \"line\": {\"color\": \"white\"}}, \"type\": \"table\"}]}, \"layout\": {\"annotationdefaults\": {\"arrowcolor\": \"#2a3f5f\", \"arrowhead\": 0, \"arrowwidth\": 1}, \"coloraxis\": {\"colorbar\": {\"outlinewidth\": 0, \"ticks\": \"\"}}, \"colorscale\": {\"diverging\": [[0, \"#8e0152\"], [0.1, \"#c51b7d\"], [0.2, \"#de77ae\"], [0.3, \"#f1b6da\"], [0.4, \"#fde0ef\"], [0.5, \"#f7f7f7\"], [0.6, \"#e6f5d0\"], [0.7, \"#b8e186\"], [0.8, \"#7fbc41\"], [0.9, \"#4d9221\"], [1, \"#276419\"]], \"sequential\": [[0.0, \"#0d0887\"], [0.1111111111111111, \"#46039f\"], [0.2222222222222222, \"#7201a8\"], [0.3333333333333333, \"#9c179e\"], [0.4444444444444444, \"#bd3786\"], [0.5555555555555556, \"#d8576b\"], [0.6666666666666666, \"#ed7953\"], [0.7777777777777778, \"#fb9f3a\"], [0.8888888888888888, \"#fdca26\"], [1.0, \"#f0f921\"]], \"sequentialminus\": [[0.0, \"#0d0887\"], [0.1111111111111111, \"#46039f\"], [0.2222222222222222, \"#7201a8\"], [0.3333333333333333, \"#9c179e\"], [0.4444444444444444, \"#bd3786\"], [0.5555555555555556, \"#d8576b\"], [0.6666666666666666, \"#ed7953\"], [0.7777777777777778, \"#fb9f3a\"], [0.8888888888888888, \"#fdca26\"], [1.0, \"#f0f921\"]]}, \"colorway\": [\"#636efa\", \"#EF553B\", \"#00cc96\", \"#ab63fa\", \"#FFA15A\", \"#19d3f3\", \"#FF6692\", \"#B6E880\", \"#FF97FF\", \"#FECB52\"], \"font\": {\"color\": \"#2a3f5f\"}, \"geo\": {\"bgcolor\": \"white\", \"lakecolor\": \"white\", \"landcolor\": \"#E5ECF6\", \"showlakes\": true, \"showland\": true, \"subunitcolor\": \"white\"}, \"hoverlabel\": {\"align\": \"left\"}, \"hovermode\": \"closest\", \"mapbox\": {\"style\": \"light\"}, \"paper_bgcolor\": \"white\", \"plot_bgcolor\": \"#E5ECF6\", \"polar\": {\"angularaxis\": {\"gridcolor\": \"white\", \"linecolor\": \"white\", \"ticks\": \"\"}, \"bgcolor\": \"#E5ECF6\", \"radialaxis\": {\"gridcolor\": \"white\", \"linecolor\": \"white\", \"ticks\": \"\"}}, \"scene\": {\"xaxis\": {\"backgroundcolor\": \"#E5ECF6\", \"gridcolor\": \"white\", \"gridwidth\": 2, \"linecolor\": \"white\", \"showbackground\": true, \"ticks\": \"\", \"zerolinecolor\": \"white\"}, \"yaxis\": {\"backgroundcolor\": \"#E5ECF6\", \"gridcolor\": \"white\", \"gridwidth\": 2, \"linecolor\": \"white\", \"showbackground\": true, \"ticks\": \"\", \"zerolinecolor\": \"white\"}, \"zaxis\": {\"backgroundcolor\": \"#E5ECF6\", \"gridcolor\": \"white\", \"gridwidth\": 2, \"linecolor\": \"white\", \"showbackground\": true, \"ticks\": \"\", \"zerolinecolor\": \"white\"}}, \"shapedefaults\": {\"line\": {\"color\": \"#2a3f5f\"}}, \"ternary\": {\"aaxis\": {\"gridcolor\": \"white\", \"linecolor\": \"white\", \"ticks\": \"\"}, \"baxis\": {\"gridcolor\": \"white\", \"linecolor\": \"white\", \"ticks\": \"\"}, \"bgcolor\": \"#E5ECF6\", \"caxis\": {\"gridcolor\": \"white\", \"linecolor\": \"white\", \"ticks\": \"\"}}, \"title\": {\"x\": 0.05}, \"xaxis\": {\"automargin\": true, \"gridcolor\": \"white\", \"linecolor\": \"white\", \"ticks\": \"\", \"title\": {\"standoff\": 15}, \"zerolinecolor\": \"white\", \"zerolinewidth\": 2}, \"yaxis\": {\"automargin\": true, \"gridcolor\": \"white\", \"linecolor\": \"white\", \"ticks\": \"\", \"title\": {\"standoff\": 15}, \"zerolinecolor\": \"white\", \"zerolinewidth\": 2}}}, \"width\": 2000},\n",
              "                        {\"responsive\": true}\n",
              "                    ).then(function(){\n",
              "                            \n",
              "var gd = document.getElementById('da8806c0-65d7-41f5-a161-20bc166b9e44');\n",
              "var x = new MutationObserver(function (mutations, observer) {{\n",
              "        var display = window.getComputedStyle(gd).display;\n",
              "        if (!display || display === 'none') {{\n",
              "            console.log([gd, 'removed!']);\n",
              "            Plotly.purge(gd);\n",
              "            observer.disconnect();\n",
              "        }}\n",
              "}});\n",
              "\n",
              "// Listen for the removal of the full notebook cells\n",
              "var notebookContainer = gd.closest('#notebook-container');\n",
              "if (notebookContainer) {{\n",
              "    x.observe(notebookContainer, {childList: true});\n",
              "}}\n",
              "\n",
              "// Listen for the clearing of the current output cell\n",
              "var outputEl = gd.closest('.output');\n",
              "if (outputEl) {{\n",
              "    x.observe(outputEl, {childList: true});\n",
              "}}\n",
              "\n",
              "                        })\n",
              "                };\n",
              "                \n",
              "            </script>\n",
              "        </div>\n",
              "</body>\n",
              "</html>"
            ]
          },
          "metadata": {
            "tags": []
          },
          "output_type": "display_data"
        }
      ],
      "source": [
        "display_pca_scatterplot_3D(model, user_input, similar_word, labels, color_map)"
      ]
    },
    {
      "cell_type": "markdown",
      "metadata": {
        "id": "zvYxZVrpc0d_"
      },
      "source": [
        "##**t-SNE 시각화**"
      ]
    },
    {
      "cell_type": "markdown",
      "metadata": {
        "id": "KGowS2i8dfS_"
      },
      "source": [
        "###3D 시각화"
      ]
    },
    {
      "cell_type": "code",
      "execution_count": null,
      "metadata": {
        "id": "fE0190vxc8Ou"
      },
      "outputs": [],
      "source": [
        "def display_tsne_scatterplot_3D(model, user_input=None, words=None, label=None, color_map=None, perplexity = 0, learning_rate = 0, iteration = 0, topn=10, sample=10):\n",
        "\n",
        "    if words == None:\n",
        "        if sample > 0:\n",
        "            words = np.random.choice(list(model.index_to_key), sample)\n",
        "        else:\n",
        "            words = [ word for word in model.wv ]\n",
        "\n",
        "    word_vectors = np.array([model.wv[w] for w in words])\n",
        "\n",
        "    three_dim = TSNE(n_components = 3, random_state=0, perplexity = perplexity, learning_rate = learning_rate, n_iter = iteration).fit_transform(word_vectors)[:,:3]\n",
        "\n",
        "\n",
        "    data = []\n",
        "\n",
        "\n",
        "    count = 0\n",
        "    for i in range (len(user_input)):\n",
        "\n",
        "                trace = go.Scatter3d(\n",
        "                    x = three_dim[count:count+topn,0], \n",
        "                    y = three_dim[count:count+topn,1],  \n",
        "                    z = three_dim[count:count+topn,2],\n",
        "                    text = words[count:count+topn],\n",
        "                    name = user_input[i],\n",
        "                    textposition = \"top center\",\n",
        "                    textfont_size = 15,\n",
        "                    mode = 'markers+text',\n",
        "                    marker = {\n",
        "                        'size': 5,\n",
        "                        'opacity': 0.8,\n",
        "                        'color': 2\n",
        "                    }\n",
        "       \n",
        "                )\n",
        "                \n",
        "\n",
        "            \n",
        "                data.append(trace)\n",
        "                count = count+topn\n",
        "\n",
        "    trace_input = go.Scatter3d(\n",
        "                    x = three_dim[count:,0], \n",
        "                    y = three_dim[count:,1],  \n",
        "                    z = three_dim[count:,2],\n",
        "                    text = words[count:],\n",
        "                    name = 'input words',\n",
        "                    textposition = \"top center\",\n",
        "                    textfont_size = 15,\n",
        "                    mode = 'markers+text',\n",
        "                    marker = {\n",
        "                        'size': 5,\n",
        "                        'opacity': 1,\n",
        "                        'color': 'black'\n",
        "                    }\n",
        "                    )\n",
        "\n",
        "\n",
        "            \n",
        "    data.append(trace_input)\n",
        "    \n",
        "# Configure the layout\n",
        "\n",
        "    layout = go.Layout(\n",
        "        margin = {'l': 0, 'r': 0, 'b': 0, 't': 0},\n",
        "        showlegend=True,\n",
        "        legend=dict(\n",
        "        x=1,\n",
        "        y=0.5,\n",
        "        font=dict(\n",
        "            family=\"Malgun Gothic\",\n",
        "            size=25,\n",
        "            color=\"black\"\n",
        "        )),\n",
        "        font = dict(\n",
        "            family = \" Malgun Gothic \",\n",
        "            size = 15),\n",
        "        autosize = False,\n",
        "        width = 1280,\n",
        "        height = 1280\n",
        "        )\n",
        "\n",
        "\n",
        "    plot_figure = go.Figure(data = data, layout = layout)\n",
        "    plot_figure.show()"
      ]
    },
    {
      "cell_type": "code",
      "execution_count": null,
      "metadata": {
        "colab": {
          "base_uri": "https://localhost:8080/",
          "height": 1000
        },
        "id": "5rIEE7PJdDKm",
        "outputId": "769aa1c9-ad89-484f-d80f-b2aa7fdc1980"
      },
      "outputs": [
        {
          "data": {
            "text/html": [
              "<html>\n",
              "<head><meta charset=\"utf-8\" /></head>\n",
              "<body>\n",
              "    <div>\n",
              "            <script src=\"https://cdnjs.cloudflare.com/ajax/libs/mathjax/2.7.5/MathJax.js?config=TeX-AMS-MML_SVG\"></script><script type=\"text/javascript\">if (window.MathJax) {MathJax.Hub.Config({SVG: {font: \"STIX-Web\"}});}</script>\n",
              "                <script type=\"text/javascript\">window.PlotlyConfig = {MathJaxConfig: 'local'};</script>\n",
              "        <script src=\"https://cdn.plot.ly/plotly-latest.min.js\"></script>    \n",
              "            <div id=\"a3cf311e-f979-439d-980b-ae69cb1975dc\" class=\"plotly-graph-div\" style=\"height:1280px; width:1280px;\"></div>\n",
              "            <script type=\"text/javascript\">\n",
              "                \n",
              "                    window.PLOTLYENV=window.PLOTLYENV || {};\n",
              "                    \n",
              "                if (document.getElementById(\"a3cf311e-f979-439d-980b-ae69cb1975dc\")) {\n",
              "                    Plotly.newPlot(\n",
              "                        'a3cf311e-f979-439d-980b-ae69cb1975dc',\n",
              "                        [{\"marker\": {\"color\": 2, \"opacity\": 0.8, \"size\": 5}, \"mode\": \"markers+text\", \"name\": \"\\ub300\\ud1b5\\ub839\", \"text\": [\"\\ubb38\\uc7ac\\uc778\", \"\\ud2b8\\ub7fc\\ud504\", \"\\ub3c4\\ub110\\ub4dc\", \"\\ubc14\\uc774\\ub4e0\", \"\\ubd80\\ud1b5\\ub839\", \"\\ubb38\\uc7ac\", \"\\ub9c8\\ud06c\\ub871\", \"\\ud478\\ud2f4\", \"\\ub2f9\\uc120\\uc778\", \"\\ub2c8\\ub2c8\\uc2a4\\ud1f4\"], \"textfont\": {\"size\": 15}, \"textposition\": \"top center\", \"type\": \"scatter3d\", \"x\": [360.60052490234375, 309.23822021484375, 51.51545333862305, 412.61517333984375, -1261.98046875, -275.1776428222656, 751.661376953125, 432.7822265625, 394.7236022949219, 629.6341552734375], \"y\": [722.0685424804688, 50.08140563964844, -112.88973236083984, 30.451068878173828, -42.94012451171875, -1086.7386474609375, 647.4268188476562, 714.1672973632812, 402.8511657714844, 270.5181884765625], \"z\": [-308.6295471191406, -317.64898681640625, -457.1842346191406, -698.7273559570312, 1086.966552734375, 983.9273071289062, -20.94849395751953, 202.91017150878906, -676.6415405273438, 183.8756561279297]}, {\"marker\": {\"color\": 2, \"opacity\": 0.8, \"size\": 5}, \"mode\": \"markers+text\", \"name\": \"\\uc2dc\\uc704\", \"text\": [\"\\ubc18\\uc815\\ubd80\", \"\\uc2dc\\uc704\\ub300\", \"\\uc2dc\\uc704\\uc790\", \"\\uc9d1\\ud68c\", \"\\ud3ed\\ub3d9\", \"\\uac00\\ub450\\uc2dc\\uc704\", \"\\uae30\\ub150\\uc9d1\\ud68c\", \"\\ud658\\ubc95\", \"\\uc720\\ud608\", \"\\uc5f0\\uc88c\\uc2dc\\uc704\"], \"textfont\": {\"size\": 15}, \"textposition\": \"top center\", \"type\": \"scatter3d\", \"x\": [-275.3692626953125, 4142.8271484375, -822.3533325195312, 1278.406982421875, -693.9664916992188, 799.1815185546875, 913.944091796875, -775.6687622070312, 507.901611328125, -445.5851745605469], \"y\": [1363.6826171875, -2941.128173828125, 1513.8089599609375, 433.7107849121094, 1009.6984252929688, -43.186790466308594, 175.54022216796875, -118.52766418457031, -1172.131591796875, -262.9281311035156], \"z\": [-582.0670166015625, -382.2085876464844, 110.63739776611328, -419.7442932128906, -832.601318359375, -136.16444396972656, -456.597900390625, -590.4439086914062, 1005.529541015625, -197.80081176757812]}, {\"marker\": {\"color\": 2, \"opacity\": 0.8, \"size\": 5}, \"mode\": \"markers+text\", \"name\": \"\\uc0ac\\uc7ac\\uae30\", \"text\": [\"\\uc0ac\\uc7ac\", \"\\ud3ed\\ub9ac\", \"\\ub9e4\\uc810\\ub9e4\\uc11d\", \"\\ud654\\uc7a5\\uc9c0\", \"\\ud488\\uadc0\", \"\\u8ce3\\u60dc\", \"\\ub418\\ud314\\uae30\", \"\\u8cb7\\u5360\", \"\\uc0dd\\ud544\\ud488\", \"\\ub300\\ub780\"], \"textfont\": {\"size\": 15}, \"textposition\": \"top center\", \"type\": \"scatter3d\", \"x\": [-152.1114501953125, 161.64988708496094, 578.876220703125, 793.6661376953125, -99.68634796142578, -140.7216033935547, 1366.603759765625, 345.5692443847656, -878.22900390625, 819.8469848632812], \"y\": [338.6701965332031, 842.0606079101562, -104.59634399414062, -234.8379669189453, 29.744924545288086, 305.44964599609375, -233.87966918945312, -68.95938110351562, 385.48779296875, -116.29446411132812], \"z\": [1472.517333984375, 1351.335205078125, -1389.4688720703125, 738.5125122070312, -1450.996826171875, -462.2919616699219, -507.7811279296875, 1028.290283203125, -1110.797607421875, 1281.6414794921875]}, {\"marker\": {\"color\": 2, \"opacity\": 0.8, \"size\": 5}, \"mode\": \"markers+text\", \"name\": \"\\ub9c8\\uc2a4\\ud06c\", \"text\": [\"\\ub9c8\\ud06c\\uc2a4\", \"kf\", \"\\uc77c\\ud68c\\uc6a9\", \"\\uc190\\uc18c\", \"\\ucc29\\uc6a9\", \"\\ub3c5\\uc81c\", \"\\uc138\\uc815\\uc81c\", \"\\uc7a5\\uac11\", \"\\uac00\\ub9ac\\uac1c\", \"\\ubc29\\ud638\\ubcf5\"], \"textfont\": {\"size\": 15}, \"textposition\": \"top center\", \"type\": \"scatter3d\", \"x\": [-411.488037109375, 789.9537353515625, 811.935791015625, 461.54296875, -1315.5589599609375, 228.2619171142578, 356.54296875, 453.30584716796875, -1367.091064453125, 549.7335205078125], \"y\": [-1142.4849853515625, 930.125244140625, 517.1796875, -199.65524291992188, -241.33946228027344, -392.4300537109375, -433.18975830078125, -827.9264526367188, -387.26446533203125, -887.8799438476562], \"z\": [102.79778289794922, -795.27685546875, -1036.1112060546875, 392.9082946777344, -356.17529296875, 525.2045288085938, 138.4837646484375, 468.9629211425781, 112.02333068847656, 91.27436828613281]}, {\"marker\": {\"color\": 2, \"opacity\": 0.8, \"size\": 5}, \"mode\": \"markers+text\", \"name\": \"\\ubc31\\uc2e0\", \"text\": [\"\\ud654\\uc774\\uc790\", \"\\uc811\\uc885\", \"\\ubaa8\\ub354\", \"\\uce58\\ub8cc\\uc81c\", \"\\uc784\\uc0c1\\uc2dc\\ud5d8\", \"\\ubc29\\ubc31\\uc2e0\", \"mrna\", \"\\uc544\\uc2a4\\ud2b8\\ub77c\", \"\\uc81c\\uc57d\\uc0ac\", \"\\uc2a4\\ud478\\ud2b8\\ub2c8\\ud06c\"], \"textfont\": {\"size\": 15}, \"textposition\": \"top center\", \"type\": \"scatter3d\", \"x\": [-64.34190368652344, 1088.4813232421875, -1358.0836181640625, 169.0092010498047, -720.4717407226562, 10.620174407958984, -369.8671569824219, 1222.8692626953125, 109.18841552734375, -402.5649108886719], \"y\": [1618.4586181640625, -29.750804901123047, 308.2914123535156, 278.1842956542969, 499.93939208984375, 966.221435546875, 1298.37744140625, 142.9984130859375, 480.605712890625, 167.85952758789062], \"z\": [375.1156921386719, -1027.2271728515625, 112.86390686035156, 414.3714294433594, -499.7950744628906, -918.774658203125, -21.056970596313477, 790.5300903320312, -1152.2877197265625, -920.4285278320312]}, {\"marker\": {\"color\": 2, \"opacity\": 0.8, \"size\": 5}, \"mode\": \"markers+text\", \"name\": \"\\uaca9\\ub9ac\", \"text\": [\"\\uc785\\uc6d0\", \"\\ud1f4\\uc6d0\", \"\\ucf54\\ud638\\ud2b8\", \"\\ub9ac\\uc790\", \"\\uaca9\\uce58\", \"\\ud1f4\\uc18c\", \"\\ud574\\uc81c\", \"\\uc774\\uc1a1\", \"\\uc790\\ud0dd\", \"\\uc785\\uc18c\"], \"textfont\": {\"size\": 15}, \"textposition\": \"top center\", \"type\": \"scatter3d\", \"x\": [-874.0361938476562, 1337.803466796875, -1040.383056640625, -1231.137939453125, 506.813720703125, 1105.1956787109375, 1128.6964111328125, 293.71435546875, 623.9904174804688, -709.1033325195312], \"y\": [-779.3689575195312, -203.56687927246094, 1094.9195556640625, 767.2943115234375, -426.96697998046875, 778.5751953125, -717.79296875, -857.22216796875, 438.56512451171875, -271.0371398925781], \"z\": [-128.07241821289062, 100.60657501220703, 728.55029296875, -335.8838195800781, -330.3872375488281, 619.471435546875, -258.19384765625, -400.584716796875, 876.8325805664062, -1331.134033203125]}, {\"marker\": {\"color\": 2, \"opacity\": 0.8, \"size\": 5}, \"mode\": \"markers+text\", \"name\": \"\\ud610\\uc624\", \"text\": [\"\\uc99d\\uc624\", \"\\uc778\\uc885\\uc8fc\\uc758\", \"\\ub099\\uc778\\ucc0d\", \"\\ud3b8\\uacac\", \"\\ud610\\uc624\\uc99d\", \"\\uc544\\uc2dc\\uc544\\uc778\", \"\\uc778\\uc885\", \"\\ud610\\uc624\\uac10\", \"\\ubc30\\ucc99\", \"\\uc18c\\uc218\\uc790\"], \"textfont\": {\"size\": 15}, \"textposition\": \"top center\", \"type\": \"scatter3d\", \"x\": [-279.71356201171875, -153.92233276367188, -488.7562255859375, -925.1918334960938, -45.729469299316406, -542.7027587890625, -606.0000610351562, -872.0809936523438, 308.6861267089844, 958.2174682617188], \"y\": [-697.41357421875, -405.0720520019531, -880.9132080078125, 478.5738830566406, -877.9862060546875, -1101.980224609375, 58.81634521484375, -694.4558715820312, -521.4334716796875, -803.1259155273438], \"z\": [-474.43853759765625, -809.7579345703125, -1172.543701171875, 1038.420166015625, -914.575439453125, -540.3838500976562, 1174.6051025390625, -756.826416015625, -917.0891723632812, 819.367919921875]}, {\"marker\": {\"color\": 2, \"opacity\": 0.8, \"size\": 5}, \"mode\": \"markers+text\", \"name\": \"\\uc9c0\\uc6d0\\uae08\", \"text\": [\"\\uc9c0\\uae09\", \"\\uc7ac\\ub09c\", \"\\ub09c\\uae08\", \"\\uae30\\ubcf8\\uc18c\\ub4dd\", \"\\uc0dd\\uacc4\\ube44\", \"\\uc9c0\\uae09\\uc2dc\", \"\\uc120\\ubd88\\uce74\\ub4dc\", \"\\ucd94\\uacbd\", \"\\ubcf4\\uc870\\uae08\", \"\\uc0dd\\ud65c\\ube44\"], \"textfont\": {\"size\": 15}, \"textposition\": \"top center\", \"type\": \"scatter3d\", \"x\": [1080.67236328125, -769.0795288085938, -651.1893920898438, -914.4837036132812, -680.1024780273438, -381.9910888671875, -918.875244140625, -371.89813232421875, -74.97953796386719, -840.121826171875], \"y\": [1062.7374267578125, -436.3697204589844, -570.7965698242188, -192.19723510742188, 120.78020477294922, -288.8534240722656, -939.1998901367188, -487.3994445800781, 41.66488265991211, 119.26103210449219], \"z\": [-148.36985778808594, 364.0938720703125, 965.6731567382812, 672.419677734375, 310.70892333984375, 725.8436889648438, 572.4862060546875, 1372.3189697265625, 865.18603515625, -61.3728141784668]}, {\"marker\": {\"color\": 2, \"opacity\": 0.8, \"size\": 5}, \"mode\": \"markers+text\", \"name\": \"\\uc5ec\\ud589\", \"text\": [\"\\ud574\\uc678\\uc5ec\\ud589\", \"\\uc5ec\\ud589\\uc790\", \"\\uc5ec\\ud589\\uc9c0\", \"\\uc5ec\\ud589\\uac1d\", \"\\uad00\\uad11\", \"\\ud5c8\\ub2c8\\ubb38\", \"\\ud328\\ud0a4\\uc9c0\\uc5ec\\ud589\", \"\\ub2e4\\ub140\\uc634\", \"\\uac15\\ubbf8\\uc2b9\", \"\\uc591\\uc601\\ud6c8\"], \"textfont\": {\"size\": 15}, \"textposition\": \"top center\", \"type\": \"scatter3d\", \"x\": [1372.3604736328125, -182.9361114501953, -501.10211181640625, 7.472240924835205, -176.0918426513672, -21.978872299194336, -237.18914794921875, -56.98312759399414, -182.04742431640625, -77.75079345703125], \"y\": [-670.0155029296875, 797.853515625, 579.6917114257812, -1161.8062744140625, 551.73193359375, 573.834716796875, -572.7599487304688, -159.20437622070312, 114.30377197265625, -483.29449462890625], \"z\": [404.05316162109375, -320.24755859375, 665.22802734375, 435.0708923339844, 204.6234893798828, 859.4811401367188, 345.87750244140625, 136.36062622070312, -51.988914489746094, -40.532615661621094]}, {\"marker\": {\"color\": 2, \"opacity\": 0.8, \"size\": 5}, \"mode\": \"markers+text\", \"name\": \"\\uc2e4\\uc9c1\", \"text\": [\"\\uc2e4\\uc9c1\\uc790\", \"\\ud734\\ud3d0\", \"\\uc2e4\\uc5c5\\uc790\", \"\\uc2e4\\uc5c5\", \"\\ud3d0\\uc5c5\", \"\\ud574\\uace0\", \"\\ud734\\uc9c1\", \"\\ubb34\\uae09\", \"\\uad8c\\uace0\\uc0ac\\uc9c1\", \"\\uc0dd\\uacc4\"], \"textfont\": {\"size\": 15}, \"textposition\": \"top center\", \"type\": \"scatter3d\", \"x\": [109.8453140258789, -484.0946960449219, 130.25433349609375, 545.5879516601562, 1238.972900390625, 315.1829528808594, 701.0154418945312, 347.6243591308594, -16.92995262145996, -363.1112365722656], \"y\": [1109.6058349609375, 1097.6102294921875, -600.6331787109375, -1194.9769287109375, 391.0556335449219, 1065.838623046875, 1272.4215087890625, -1427.5999755859375, -1463.5096435546875, 147.08502197265625], \"z\": [177.37799072265625, 515.8336791992188, 1065.2706298828125, -880.58544921875, 221.3734893798828, 745.6813354492188, 355.5020446777344, -169.17822265625, -408.39306640625, 441.14068603515625]}, {\"marker\": {\"color\": \"black\", \"opacity\": 1, \"size\": 5}, \"mode\": \"markers+text\", \"name\": \"input words\", \"text\": [\"\\ub300\\ud1b5\\ub839\", \"\\uc2dc\\uc704\", \"\\uc0ac\\uc7ac\\uae30\", \"\\ub9c8\\uc2a4\\ud06c\", \"\\ubc31\\uc2e0\", \"\\uaca9\\ub9ac\", \"\\ud610\\uc624\", \"\\uc9c0\\uc6d0\\uae08\", \"\\uc5ec\\ud589\", \"\\uc2e4\\uc9c1\"], \"textfont\": {\"size\": 15}, \"textposition\": \"top center\", \"type\": \"scatter3d\", \"x\": [343.7351989746094, 955.6649169921875, 153.61949157714844, 811.3662719726562, -926.5634765625, 783.2137451171875, -436.2926330566406, 421.2045593261719, -495.8523254394531, -65.15033721923828], \"y\": [387.5775146484375, -1250.8382568359375, -369.8165283203125, -487.66387939453125, 674.3054809570312, -668.130859375, -698.9808349609375, 583.609375, 665.2666625976562, 1028.896728515625], \"z\": [-136.68814086914062, 178.1685333251953, -1416.3824462890625, 206.4623260498047, 176.62937927246094, -530.78955078125, -807.8812866210938, -4044.044189453125, -45.58226013183594, 534.4114990234375]}],\n",
              "                        {\"autosize\": false, \"font\": {\"family\": \" Malgun Gothic \", \"size\": 15}, \"height\": 1280, \"legend\": {\"font\": {\"color\": \"black\", \"family\": \"Malgun Gothic\", \"size\": 25}, \"x\": 1, \"y\": 0.5}, \"margin\": {\"b\": 0, \"l\": 0, \"r\": 0, \"t\": 0}, \"showlegend\": true, \"template\": {\"data\": {\"bar\": [{\"error_x\": {\"color\": \"#2a3f5f\"}, \"error_y\": {\"color\": \"#2a3f5f\"}, \"marker\": {\"line\": {\"color\": \"#E5ECF6\", \"width\": 0.5}}, \"type\": \"bar\"}], \"barpolar\": [{\"marker\": {\"line\": {\"color\": \"#E5ECF6\", \"width\": 0.5}}, \"type\": \"barpolar\"}], \"carpet\": [{\"aaxis\": {\"endlinecolor\": \"#2a3f5f\", \"gridcolor\": \"white\", \"linecolor\": \"white\", \"minorgridcolor\": \"white\", \"startlinecolor\": \"#2a3f5f\"}, \"baxis\": {\"endlinecolor\": \"#2a3f5f\", \"gridcolor\": \"white\", \"linecolor\": \"white\", \"minorgridcolor\": \"white\", \"startlinecolor\": \"#2a3f5f\"}, \"type\": \"carpet\"}], \"choropleth\": [{\"colorbar\": {\"outlinewidth\": 0, \"ticks\": \"\"}, \"type\": \"choropleth\"}], \"contour\": [{\"colorbar\": {\"outlinewidth\": 0, \"ticks\": \"\"}, \"colorscale\": [[0.0, \"#0d0887\"], [0.1111111111111111, \"#46039f\"], [0.2222222222222222, \"#7201a8\"], [0.3333333333333333, \"#9c179e\"], [0.4444444444444444, \"#bd3786\"], [0.5555555555555556, \"#d8576b\"], [0.6666666666666666, \"#ed7953\"], [0.7777777777777778, \"#fb9f3a\"], [0.8888888888888888, \"#fdca26\"], [1.0, \"#f0f921\"]], \"type\": \"contour\"}], \"contourcarpet\": [{\"colorbar\": {\"outlinewidth\": 0, \"ticks\": \"\"}, \"type\": \"contourcarpet\"}], \"heatmap\": [{\"colorbar\": {\"outlinewidth\": 0, \"ticks\": \"\"}, \"colorscale\": [[0.0, \"#0d0887\"], [0.1111111111111111, \"#46039f\"], [0.2222222222222222, \"#7201a8\"], [0.3333333333333333, \"#9c179e\"], [0.4444444444444444, \"#bd3786\"], [0.5555555555555556, \"#d8576b\"], [0.6666666666666666, \"#ed7953\"], [0.7777777777777778, \"#fb9f3a\"], [0.8888888888888888, \"#fdca26\"], [1.0, \"#f0f921\"]], \"type\": \"heatmap\"}], \"heatmapgl\": [{\"colorbar\": {\"outlinewidth\": 0, \"ticks\": \"\"}, \"colorscale\": [[0.0, \"#0d0887\"], [0.1111111111111111, \"#46039f\"], [0.2222222222222222, \"#7201a8\"], [0.3333333333333333, \"#9c179e\"], [0.4444444444444444, \"#bd3786\"], [0.5555555555555556, \"#d8576b\"], [0.6666666666666666, \"#ed7953\"], [0.7777777777777778, \"#fb9f3a\"], [0.8888888888888888, \"#fdca26\"], [1.0, \"#f0f921\"]], \"type\": \"heatmapgl\"}], \"histogram\": [{\"marker\": {\"colorbar\": {\"outlinewidth\": 0, \"ticks\": \"\"}}, \"type\": \"histogram\"}], \"histogram2d\": [{\"colorbar\": {\"outlinewidth\": 0, \"ticks\": \"\"}, \"colorscale\": [[0.0, \"#0d0887\"], [0.1111111111111111, \"#46039f\"], [0.2222222222222222, \"#7201a8\"], [0.3333333333333333, \"#9c179e\"], [0.4444444444444444, \"#bd3786\"], [0.5555555555555556, \"#d8576b\"], [0.6666666666666666, \"#ed7953\"], [0.7777777777777778, \"#fb9f3a\"], [0.8888888888888888, \"#fdca26\"], [1.0, \"#f0f921\"]], \"type\": \"histogram2d\"}], \"histogram2dcontour\": [{\"colorbar\": {\"outlinewidth\": 0, \"ticks\": \"\"}, \"colorscale\": [[0.0, \"#0d0887\"], [0.1111111111111111, \"#46039f\"], [0.2222222222222222, \"#7201a8\"], [0.3333333333333333, \"#9c179e\"], [0.4444444444444444, \"#bd3786\"], [0.5555555555555556, \"#d8576b\"], [0.6666666666666666, \"#ed7953\"], [0.7777777777777778, \"#fb9f3a\"], [0.8888888888888888, \"#fdca26\"], [1.0, \"#f0f921\"]], \"type\": \"histogram2dcontour\"}], \"mesh3d\": [{\"colorbar\": {\"outlinewidth\": 0, \"ticks\": \"\"}, \"type\": \"mesh3d\"}], \"parcoords\": [{\"line\": {\"colorbar\": {\"outlinewidth\": 0, \"ticks\": \"\"}}, \"type\": \"parcoords\"}], \"pie\": [{\"automargin\": true, \"type\": \"pie\"}], \"scatter\": [{\"marker\": {\"colorbar\": {\"outlinewidth\": 0, \"ticks\": \"\"}}, \"type\": \"scatter\"}], \"scatter3d\": [{\"line\": {\"colorbar\": {\"outlinewidth\": 0, \"ticks\": \"\"}}, \"marker\": {\"colorbar\": {\"outlinewidth\": 0, \"ticks\": \"\"}}, \"type\": \"scatter3d\"}], \"scattercarpet\": [{\"marker\": {\"colorbar\": {\"outlinewidth\": 0, \"ticks\": \"\"}}, \"type\": \"scattercarpet\"}], \"scattergeo\": [{\"marker\": {\"colorbar\": {\"outlinewidth\": 0, \"ticks\": \"\"}}, \"type\": \"scattergeo\"}], \"scattergl\": [{\"marker\": {\"colorbar\": {\"outlinewidth\": 0, \"ticks\": \"\"}}, \"type\": \"scattergl\"}], \"scattermapbox\": [{\"marker\": {\"colorbar\": {\"outlinewidth\": 0, \"ticks\": \"\"}}, \"type\": \"scattermapbox\"}], \"scatterpolar\": [{\"marker\": {\"colorbar\": {\"outlinewidth\": 0, \"ticks\": \"\"}}, \"type\": \"scatterpolar\"}], \"scatterpolargl\": [{\"marker\": {\"colorbar\": {\"outlinewidth\": 0, \"ticks\": \"\"}}, \"type\": \"scatterpolargl\"}], \"scatterternary\": [{\"marker\": {\"colorbar\": {\"outlinewidth\": 0, \"ticks\": \"\"}}, \"type\": \"scatterternary\"}], \"surface\": [{\"colorbar\": {\"outlinewidth\": 0, \"ticks\": \"\"}, \"colorscale\": [[0.0, \"#0d0887\"], [0.1111111111111111, \"#46039f\"], [0.2222222222222222, \"#7201a8\"], [0.3333333333333333, \"#9c179e\"], [0.4444444444444444, \"#bd3786\"], [0.5555555555555556, \"#d8576b\"], [0.6666666666666666, \"#ed7953\"], [0.7777777777777778, \"#fb9f3a\"], [0.8888888888888888, \"#fdca26\"], [1.0, \"#f0f921\"]], \"type\": \"surface\"}], \"table\": [{\"cells\": {\"fill\": {\"color\": \"#EBF0F8\"}, \"line\": {\"color\": \"white\"}}, \"header\": {\"fill\": {\"color\": \"#C8D4E3\"}, \"line\": {\"color\": \"white\"}}, \"type\": \"table\"}]}, \"layout\": {\"annotationdefaults\": {\"arrowcolor\": \"#2a3f5f\", \"arrowhead\": 0, \"arrowwidth\": 1}, \"coloraxis\": {\"colorbar\": {\"outlinewidth\": 0, \"ticks\": \"\"}}, \"colorscale\": {\"diverging\": [[0, \"#8e0152\"], [0.1, \"#c51b7d\"], [0.2, \"#de77ae\"], [0.3, \"#f1b6da\"], [0.4, \"#fde0ef\"], [0.5, \"#f7f7f7\"], [0.6, \"#e6f5d0\"], [0.7, \"#b8e186\"], [0.8, \"#7fbc41\"], [0.9, \"#4d9221\"], [1, \"#276419\"]], \"sequential\": [[0.0, \"#0d0887\"], [0.1111111111111111, \"#46039f\"], [0.2222222222222222, \"#7201a8\"], [0.3333333333333333, \"#9c179e\"], [0.4444444444444444, \"#bd3786\"], [0.5555555555555556, \"#d8576b\"], [0.6666666666666666, \"#ed7953\"], [0.7777777777777778, \"#fb9f3a\"], [0.8888888888888888, \"#fdca26\"], [1.0, \"#f0f921\"]], \"sequentialminus\": [[0.0, \"#0d0887\"], [0.1111111111111111, \"#46039f\"], [0.2222222222222222, \"#7201a8\"], [0.3333333333333333, \"#9c179e\"], [0.4444444444444444, \"#bd3786\"], [0.5555555555555556, \"#d8576b\"], [0.6666666666666666, \"#ed7953\"], [0.7777777777777778, \"#fb9f3a\"], [0.8888888888888888, \"#fdca26\"], [1.0, \"#f0f921\"]]}, \"colorway\": [\"#636efa\", \"#EF553B\", \"#00cc96\", \"#ab63fa\", \"#FFA15A\", \"#19d3f3\", \"#FF6692\", \"#B6E880\", \"#FF97FF\", \"#FECB52\"], \"font\": {\"color\": \"#2a3f5f\"}, \"geo\": {\"bgcolor\": \"white\", \"lakecolor\": \"white\", \"landcolor\": \"#E5ECF6\", \"showlakes\": true, \"showland\": true, \"subunitcolor\": \"white\"}, \"hoverlabel\": {\"align\": \"left\"}, \"hovermode\": \"closest\", \"mapbox\": {\"style\": \"light\"}, \"paper_bgcolor\": \"white\", \"plot_bgcolor\": \"#E5ECF6\", \"polar\": {\"angularaxis\": {\"gridcolor\": \"white\", \"linecolor\": \"white\", \"ticks\": \"\"}, \"bgcolor\": \"#E5ECF6\", \"radialaxis\": {\"gridcolor\": \"white\", \"linecolor\": \"white\", \"ticks\": \"\"}}, \"scene\": {\"xaxis\": {\"backgroundcolor\": \"#E5ECF6\", \"gridcolor\": \"white\", \"gridwidth\": 2, \"linecolor\": \"white\", \"showbackground\": true, \"ticks\": \"\", \"zerolinecolor\": \"white\"}, \"yaxis\": {\"backgroundcolor\": \"#E5ECF6\", \"gridcolor\": \"white\", \"gridwidth\": 2, \"linecolor\": \"white\", \"showbackground\": true, \"ticks\": \"\", \"zerolinecolor\": \"white\"}, \"zaxis\": {\"backgroundcolor\": \"#E5ECF6\", \"gridcolor\": \"white\", \"gridwidth\": 2, \"linecolor\": \"white\", \"showbackground\": true, \"ticks\": \"\", \"zerolinecolor\": \"white\"}}, \"shapedefaults\": {\"line\": {\"color\": \"#2a3f5f\"}}, \"ternary\": {\"aaxis\": {\"gridcolor\": \"white\", \"linecolor\": \"white\", \"ticks\": \"\"}, \"baxis\": {\"gridcolor\": \"white\", \"linecolor\": \"white\", \"ticks\": \"\"}, \"bgcolor\": \"#E5ECF6\", \"caxis\": {\"gridcolor\": \"white\", \"linecolor\": \"white\", \"ticks\": \"\"}}, \"title\": {\"x\": 0.05}, \"xaxis\": {\"automargin\": true, \"gridcolor\": \"white\", \"linecolor\": \"white\", \"ticks\": \"\", \"title\": {\"standoff\": 15}, \"zerolinecolor\": \"white\", \"zerolinewidth\": 2}, \"yaxis\": {\"automargin\": true, \"gridcolor\": \"white\", \"linecolor\": \"white\", \"ticks\": \"\", \"title\": {\"standoff\": 15}, \"zerolinecolor\": \"white\", \"zerolinewidth\": 2}}}, \"width\": 1280},\n",
              "                        {\"responsive\": true}\n",
              "                    ).then(function(){\n",
              "                            \n",
              "var gd = document.getElementById('a3cf311e-f979-439d-980b-ae69cb1975dc');\n",
              "var x = new MutationObserver(function (mutations, observer) {{\n",
              "        var display = window.getComputedStyle(gd).display;\n",
              "        if (!display || display === 'none') {{\n",
              "            console.log([gd, 'removed!']);\n",
              "            Plotly.purge(gd);\n",
              "            observer.disconnect();\n",
              "        }}\n",
              "}});\n",
              "\n",
              "// Listen for the removal of the full notebook cells\n",
              "var notebookContainer = gd.closest('#notebook-container');\n",
              "if (notebookContainer) {{\n",
              "    x.observe(notebookContainer, {childList: true});\n",
              "}}\n",
              "\n",
              "// Listen for the clearing of the current output cell\n",
              "var outputEl = gd.closest('.output');\n",
              "if (outputEl) {{\n",
              "    x.observe(outputEl, {childList: true});\n",
              "}}\n",
              "\n",
              "                        })\n",
              "                };\n",
              "                \n",
              "            </script>\n",
              "        </div>\n",
              "</body>\n",
              "</html>"
            ]
          },
          "metadata": {
            "tags": []
          },
          "output_type": "display_data"
        }
      ],
      "source": [
        "display_tsne_scatterplot_3D(model, user_input, similar_word, labels, color_map, 20, 500, 10000)"
      ]
    },
    {
      "cell_type": "markdown",
      "metadata": {
        "id": "WjOxaAIHdGIZ"
      },
      "source": [
        "###2D 시각화"
      ]
    },
    {
      "cell_type": "code",
      "execution_count": null,
      "metadata": {
        "id": "meh0O5XvdFjt"
      },
      "outputs": [],
      "source": [
        "def display_tsne_scatterplot_2D(model, user_input=None, words=None, label=None, color_map=None, perplexity = 0, learning_rate = 0, iteration = 0, topn=10, sample=10):\n",
        "\n",
        "    if words == None:\n",
        "        if sample > 0:\n",
        "            words = np.random.choice(list(model.index_to_key), sample)\n",
        "        else:\n",
        "            words = [ word for word in model.wv ]\n",
        "\n",
        "    word_vectors = np.array([model.wv[w] for w in words])\n",
        "    two_dim = TSNE(n_components = 2, random_state=0, perplexity = perplexity, learning_rate = learning_rate, n_iter = iteration).fit_transform(word_vectors)[:,:2]\n",
        "\n",
        "\n",
        "    data = []\n",
        "\n",
        "\n",
        "    count = 0\n",
        "    for i in range (len(user_input)):\n",
        "\n",
        "                trace = go.Scatter(\n",
        "                    x = two_dim[count:count+topn,0], \n",
        "                    y = two_dim[count:count+topn,1],  \n",
        "                    text = words[count:count+topn],\n",
        "                    name = user_input[i],\n",
        "                    textposition = \"top center\",\n",
        "                    textfont_size = 15,\n",
        "                    mode = 'markers+text',\n",
        "                    marker = {\n",
        "                        'size': 15,\n",
        "                        'opacity': 0.8,\n",
        "                        'color': 2\n",
        "                    }\n",
        "       \n",
        "                )\n",
        "                \n",
        "\n",
        "            \n",
        "                data.append(trace)\n",
        "                count = count+topn\n",
        "\n",
        "    trace_input = go.Scatter(\n",
        "                    x = two_dim[count:,0], \n",
        "                    y = two_dim[count:,1],  \n",
        "                    text = words[count:],\n",
        "                    name = 'input words',\n",
        "                    textposition = \"top center\",\n",
        "                    textfont_size = 15,\n",
        "                    mode = 'markers+text',\n",
        "                    marker = {\n",
        "                        'size': 15,\n",
        "                        'opacity': 1,\n",
        "                        'color': 'black'\n",
        "                    }\n",
        "                    )\n",
        "\n",
        "            \n",
        "    data.append(trace_input)\n",
        "    \n",
        "# Configure the layout\n",
        "\n",
        "    layout = go.Layout(\n",
        "        margin = {'l': 0, 'r': 0, 'b': 0, 't': 0},\n",
        "        showlegend=True,\n",
        "        legend=dict(\n",
        "        x=1,\n",
        "        y=0.5,\n",
        "        font=dict(\n",
        "            family=\"Malgun Gothic\",\n",
        "            size=25,\n",
        "            color=\"black\"\n",
        "        )),\n",
        "        font = dict(\n",
        "            family = \" Malgun Gothic \",\n",
        "            size = 15),\n",
        "        autosize = False,\n",
        "        width = 1280,\n",
        "        height = 1280\n",
        "        )\n",
        "\n",
        "\n",
        "    plot_figure = go.Figure(data = data, layout = layout)\n",
        "    plot_figure.show()"
      ]
    },
    {
      "cell_type": "code",
      "execution_count": null,
      "metadata": {
        "colab": {
          "base_uri": "https://localhost:8080/",
          "height": 1000
        },
        "id": "eT15G6omdUOP",
        "outputId": "45677901-6b10-4480-ba3f-61eb34026212"
      },
      "outputs": [
        {
          "data": {
            "text/html": [
              "<html>\n",
              "<head><meta charset=\"utf-8\" /></head>\n",
              "<body>\n",
              "    <div>\n",
              "            <script src=\"https://cdnjs.cloudflare.com/ajax/libs/mathjax/2.7.5/MathJax.js?config=TeX-AMS-MML_SVG\"></script><script type=\"text/javascript\">if (window.MathJax) {MathJax.Hub.Config({SVG: {font: \"STIX-Web\"}});}</script>\n",
              "                <script type=\"text/javascript\">window.PlotlyConfig = {MathJaxConfig: 'local'};</script>\n",
              "        <script src=\"https://cdn.plot.ly/plotly-latest.min.js\"></script>    \n",
              "            <div id=\"bd0628e6-50c5-4846-be84-1ab6ec9ffee7\" class=\"plotly-graph-div\" style=\"height:1280px; width:1280px;\"></div>\n",
              "            <script type=\"text/javascript\">\n",
              "                \n",
              "                    window.PLOTLYENV=window.PLOTLYENV || {};\n",
              "                    \n",
              "                if (document.getElementById(\"bd0628e6-50c5-4846-be84-1ab6ec9ffee7\")) {\n",
              "                    Plotly.newPlot(\n",
              "                        'bd0628e6-50c5-4846-be84-1ab6ec9ffee7',\n",
              "                        [{\"marker\": {\"color\": 2, \"opacity\": 0.8, \"size\": 15}, \"mode\": \"markers+text\", \"name\": \"\\ub300\\ud1b5\\ub839\", \"text\": [\"\\ubb38\\uc7ac\\uc778\", \"\\ud2b8\\ub7fc\\ud504\", \"\\ub3c4\\ub110\\ub4dc\", \"\\ubc14\\uc774\\ub4e0\", \"\\ubd80\\ud1b5\\ub839\", \"\\ubb38\\uc7ac\", \"\\ub9c8\\ud06c\\ub871\", \"\\ud478\\ud2f4\", \"\\ub2f9\\uc120\\uc778\", \"\\ub2c8\\ub2c8\\uc2a4\\ud1f4\"], \"textfont\": {\"size\": 15}, \"textposition\": \"top center\", \"type\": \"scatter\", \"x\": [-94.02339935302734, -115.66618347167969, -104.28279876708984, -128.97471618652344, -127.79039764404297, -91.08831024169922, -119.20943450927734, -135.8668975830078, -146.50796508789062, -76.14228057861328], \"y\": [35.922550201416016, 66.04948425292969, 75.30244445800781, 79.26611328125, 95.63813781738281, 21.170473098754883, 37.651607513427734, 43.902889251708984, 77.81170654296875, 53.945316314697266]}, {\"marker\": {\"color\": 2, \"opacity\": 0.8, \"size\": 15}, \"mode\": \"markers+text\", \"name\": \"\\uc2dc\\uc704\", \"text\": [\"\\ubc18\\uc815\\ubd80\", \"\\uc2dc\\uc704\\ub300\", \"\\uc2dc\\uc704\\uc790\", \"\\uc9d1\\ud68c\", \"\\ud3ed\\ub3d9\", \"\\uac00\\ub450\\uc2dc\\uc704\", \"\\uae30\\ub150\\uc9d1\\ud68c\", \"\\ud658\\ubc95\", \"\\uc720\\ud608\", \"\\uc5f0\\uc88c\\uc2dc\\uc704\"], \"textfont\": {\"size\": 15}, \"textposition\": \"top center\", \"type\": \"scatter\", \"x\": [103.19338989257812, 102.38934326171875, 91.76310729980469, 66.81680297851562, 129.1649169921875, 52.8013801574707, 72.165771484375, 94.24275970458984, 132.70970153808594, 53.52756881713867], \"y\": [11.925827980041504, 34.15115737915039, 44.225624084472656, 24.69738006591797, 18.485239028930664, 3.5269360542297363, 1.869093894958496, -10.052713394165039, 36.35688781738281, -11.86194133758545]}, {\"marker\": {\"color\": 2, \"opacity\": 0.8, \"size\": 15}, \"mode\": \"markers+text\", \"name\": \"\\uc0ac\\uc7ac\\uae30\", \"text\": [\"\\uc0ac\\uc7ac\", \"\\ud3ed\\ub9ac\", \"\\ub9e4\\uc810\\ub9e4\\uc11d\", \"\\ud654\\uc7a5\\uc9c0\", \"\\ud488\\uadc0\", \"\\u8ce3\\u60dc\", \"\\ub418\\ud314\\uae30\", \"\\u8cb7\\u5360\", \"\\uc0dd\\ud544\\ud488\", \"\\ub300\\ub780\"], \"textfont\": {\"size\": 15}, \"textposition\": \"top center\", \"type\": \"scatter\", \"x\": [114.33895111083984, 88.64085388183594, 71.37500762939453, 93.6678237915039, 135.5689697265625, 42.766937255859375, 67.98880004882812, 49.20241928100586, 76.40992736816406, 125.80009460449219], \"y\": [-77.82749938964844, -50.30672073364258, -63.03337478637695, -95.75181579589844, -56.60140609741211, -39.16770935058594, -41.36492156982422, -50.90679931640625, -94.0912857055664, -45.80691146850586]}, {\"marker\": {\"color\": 2, \"opacity\": 0.8, \"size\": 15}, \"mode\": \"markers+text\", \"name\": \"\\ub9c8\\uc2a4\\ud06c\", \"text\": [\"\\ub9c8\\ud06c\\uc2a4\", \"kf\", \"\\uc77c\\ud68c\\uc6a9\", \"\\uc190\\uc18c\", \"\\ucc29\\uc6a9\", \"\\ub3c5\\uc81c\", \"\\uc138\\uc815\\uc81c\", \"\\uc7a5\\uac11\", \"\\uac00\\ub9ac\\uac1c\", \"\\ubc29\\ud638\\ubcf5\"], \"textfont\": {\"size\": 15}, \"textposition\": \"top center\", \"type\": \"scatter\", \"x\": [59.24598693847656, 66.88613891601562, 82.69532775878906, 110.88862609863281, 42.81587219238281, 119.88148498535156, 101.5225830078125, 98.17057037353516, 38.597381591796875, 90.21471405029297], \"y\": [-120.73836517333984, -159.19644165039062, -144.99179077148438, -139.07252502441406, -143.55401611328125, -128.68524169921875, -124.83354187011719, -161.5248260498047, -164.82470703125, -178.08721923828125]}, {\"marker\": {\"color\": 2, \"opacity\": 0.8, \"size\": 15}, \"mode\": \"markers+text\", \"name\": \"\\ubc31\\uc2e0\", \"text\": [\"\\ud654\\uc774\\uc790\", \"\\uc811\\uc885\", \"\\ubaa8\\ub354\", \"\\uce58\\ub8cc\\uc81c\", \"\\uc784\\uc0c1\\uc2dc\\ud5d8\", \"\\ubc29\\ubc31\\uc2e0\", \"mrna\", \"\\uc544\\uc2a4\\ud2b8\\ub77c\", \"\\uc81c\\uc57d\\uc0ac\", \"\\uc2a4\\ud478\\ud2b8\\ub2c8\\ud06c\"], \"textfont\": {\"size\": 15}, \"textposition\": \"top center\", \"type\": \"scatter\", \"x\": [-59.3259391784668, -59.47905349731445, -49.79607009887695, -58.612945556640625, -76.90239715576172, -39.2988166809082, -37.368350982666016, -75.6183090209961, -78.48944091796875, -88.74701690673828], \"y\": [-245.25848388671875, -186.48880004882812, -255.67489624023438, -219.1728973388672, -214.01632690429688, -199.04649353027344, -227.79396057128906, -259.66485595703125, -241.70858764648438, -190.92503356933594]}, {\"marker\": {\"color\": 2, \"opacity\": 0.8, \"size\": 15}, \"mode\": \"markers+text\", \"name\": \"\\uaca9\\ub9ac\", \"text\": [\"\\uc785\\uc6d0\", \"\\ud1f4\\uc6d0\", \"\\ucf54\\ud638\\ud2b8\", \"\\ub9ac\\uc790\", \"\\uaca9\\uce58\", \"\\ud1f4\\uc18c\", \"\\ud574\\uc81c\", \"\\uc774\\uc1a1\", \"\\uc790\\ud0dd\", \"\\uc785\\uc18c\"], \"textfont\": {\"size\": 15}, \"textposition\": \"top center\", \"type\": \"scatter\", \"x\": [-18.11266326904297, -11.371636390686035, 7.966211795806885, -25.649707794189453, 8.89028263092041, -47.01389694213867, 19.76852798461914, -35.212196350097656, -9.891297340393066, -34.231689453125], \"y\": [-99.35971069335938, -113.31163787841797, -93.66727447509766, -62.19324493408203, -53.43351745605469, -115.74671936035156, -72.24564361572266, -87.97750854492188, -45.72426986694336, -122.84982299804688]}, {\"marker\": {\"color\": 2, \"opacity\": 0.8, \"size\": 15}, \"mode\": \"markers+text\", \"name\": \"\\ud610\\uc624\", \"text\": [\"\\uc99d\\uc624\", \"\\uc778\\uc885\\uc8fc\\uc758\", \"\\ub099\\uc778\\ucc0d\", \"\\ud3b8\\uacac\", \"\\ud610\\uc624\\uc99d\", \"\\uc544\\uc2dc\\uc544\\uc778\", \"\\uc778\\uc885\", \"\\ud610\\uc624\\uac10\", \"\\ubc30\\ucc99\", \"\\uc18c\\uc218\\uc790\"], \"textfont\": {\"size\": 15}, \"textposition\": \"top center\", \"type\": \"scatter\", \"x\": [-132.47103881835938, -138.9298858642578, -128.68763732910156, -119.30941009521484, -99.12596893310547, -155.76763916015625, -152.76002502441406, -121.33795166015625, -102.5744400024414, -96.64607238769531], \"y\": [-46.15788269042969, -66.17127990722656, -92.28068542480469, -71.26264953613281, -62.544097900390625, -39.93207550048828, -57.18307876586914, -26.444063186645508, -84.49385833740234, -39.33748245239258]}, {\"marker\": {\"color\": 2, \"opacity\": 0.8, \"size\": 15}, \"mode\": \"markers+text\", \"name\": \"\\uc9c0\\uc6d0\\uae08\", \"text\": [\"\\uc9c0\\uae09\", \"\\uc7ac\\ub09c\", \"\\ub09c\\uae08\", \"\\uae30\\ubcf8\\uc18c\\ub4dd\", \"\\uc0dd\\uacc4\\ube44\", \"\\uc9c0\\uae09\\uc2dc\", \"\\uc120\\ubd88\\uce74\\ub4dc\", \"\\ucd94\\uacbd\", \"\\ubcf4\\uc870\\uae08\", \"\\uc0dd\\ud65c\\ube44\"], \"textfont\": {\"size\": 15}, \"textposition\": \"top center\", \"type\": \"scatter\", \"x\": [43.86918258666992, 35.475486755371094, 64.51170349121094, 52.990631103515625, 6.543964862823486, 27.552894592285156, 58.91209411621094, 79.86659240722656, 25.753477096557617, -1.6031845808029175], \"y\": [89.27266693115234, 120.48081970214844, 102.56342315673828, 125.8044662475586, 116.63772583007812, 90.05233764648438, 74.88407897949219, 119.9536361694336, 62.57448196411133, 97.5544662475586]}, {\"marker\": {\"color\": 2, \"opacity\": 0.8, \"size\": 15}, \"mode\": \"markers+text\", \"name\": \"\\uc5ec\\ud589\", \"text\": [\"\\ud574\\uc678\\uc5ec\\ud589\", \"\\uc5ec\\ud589\\uc790\", \"\\uc5ec\\ud589\\uc9c0\", \"\\uc5ec\\ud589\\uac1d\", \"\\uad00\\uad11\", \"\\ud5c8\\ub2c8\\ubb38\", \"\\ud328\\ud0a4\\uc9c0\\uc5ec\\ud589\", \"\\ub2e4\\ub140\\uc634\", \"\\uac15\\ubbf8\\uc2b9\", \"\\uc591\\uc601\\ud6c8\"], \"textfont\": {\"size\": 15}, \"textposition\": \"top center\", \"type\": \"scatter\", \"x\": [-31.50409698486328, -42.52854919433594, -20.21742820739746, -43.255313873291016, -3.524709939956665, -3.8994312286376953, 17.154586791992188, 9.708349227905273, 18.985979080200195, 3.369304656982422], \"y\": [25.473413467407227, -1.896352767944336, -11.843769073486328, -16.673324584960938, 4.519346237182617, 31.270742416381836, 2.62896466255188, -32.053855895996094, -19.144838333129883, -16.62729263305664]}, {\"marker\": {\"color\": 2, \"opacity\": 0.8, \"size\": 15}, \"mode\": \"markers+text\", \"name\": \"\\uc2e4\\uc9c1\", \"text\": [\"\\uc2e4\\uc9c1\\uc790\", \"\\ud734\\ud3d0\", \"\\uc2e4\\uc5c5\\uc790\", \"\\uc2e4\\uc5c5\", \"\\ud3d0\\uc5c5\", \"\\ud574\\uace0\", \"\\ud734\\uc9c1\", \"\\ubb34\\uae09\", \"\\uad8c\\uace0\\uc0ac\\uc9c1\", \"\\uc0dd\\uacc4\"], \"textfont\": {\"size\": 15}, \"textposition\": \"top center\", \"type\": \"scatter\", \"x\": [-26.81831169128418, 4.669297695159912, -39.468017578125, -48.12199020385742, -5.558380603790283, -40.6474609375, -26.50009536743164, -38.56951904296875, -45.03395462036133, -7.155955791473389], \"y\": [143.44764709472656, 164.46861267089844, 149.13839721679688, 133.8040008544922, 178.0658416748047, 176.798095703125, 208.98605346679688, 213.78292846679688, 193.8433837890625, 124.02700805664062]}, {\"marker\": {\"color\": \"black\", \"opacity\": 1, \"size\": 15}, \"mode\": \"markers+text\", \"name\": \"input words\", \"text\": [\"\\ub300\\ud1b5\\ub839\", \"\\uc2dc\\uc704\", \"\\uc0ac\\uc7ac\\uae30\", \"\\ub9c8\\uc2a4\\ud06c\", \"\\ubc31\\uc2e0\", \"\\uaca9\\ub9ac\", \"\\ud610\\uc624\", \"\\uc9c0\\uc6d0\\uae08\", \"\\uc5ec\\ud589\", \"\\uc2e4\\uc9c1\"], \"textfont\": {\"size\": 15}, \"textposition\": \"top center\", \"type\": \"scatter\", \"x\": [-99.49160766601562, 88.59596252441406, 97.86563110351562, 65.04715728759766, -60.31551742553711, -6.767336845397949, -118.10270690917969, 44.00409698486328, -23.200275421142578, -19.71678352355957], \"y\": [52.9503288269043, 19.608539581298828, -70.89530944824219, -137.54856872558594, -203.06222534179688, -74.95268249511719, -53.150054931640625, 104.7078857421875, 11.584331512451172, 162.911865234375]}],\n",
              "                        {\"autosize\": false, \"font\": {\"family\": \" Malgun Gothic \", \"size\": 15}, \"height\": 1280, \"legend\": {\"font\": {\"color\": \"black\", \"family\": \"Malgun Gothic\", \"size\": 25}, \"x\": 1, \"y\": 0.5}, \"margin\": {\"b\": 0, \"l\": 0, \"r\": 0, \"t\": 0}, \"showlegend\": true, \"template\": {\"data\": {\"bar\": [{\"error_x\": {\"color\": \"#2a3f5f\"}, \"error_y\": {\"color\": \"#2a3f5f\"}, \"marker\": {\"line\": {\"color\": \"#E5ECF6\", \"width\": 0.5}}, \"type\": \"bar\"}], \"barpolar\": [{\"marker\": {\"line\": {\"color\": \"#E5ECF6\", \"width\": 0.5}}, \"type\": \"barpolar\"}], \"carpet\": [{\"aaxis\": {\"endlinecolor\": \"#2a3f5f\", \"gridcolor\": \"white\", \"linecolor\": \"white\", \"minorgridcolor\": \"white\", \"startlinecolor\": \"#2a3f5f\"}, \"baxis\": {\"endlinecolor\": \"#2a3f5f\", \"gridcolor\": \"white\", \"linecolor\": \"white\", \"minorgridcolor\": \"white\", \"startlinecolor\": \"#2a3f5f\"}, \"type\": \"carpet\"}], \"choropleth\": [{\"colorbar\": {\"outlinewidth\": 0, \"ticks\": \"\"}, \"type\": \"choropleth\"}], \"contour\": [{\"colorbar\": {\"outlinewidth\": 0, \"ticks\": \"\"}, \"colorscale\": [[0.0, \"#0d0887\"], [0.1111111111111111, \"#46039f\"], [0.2222222222222222, \"#7201a8\"], [0.3333333333333333, \"#9c179e\"], [0.4444444444444444, \"#bd3786\"], [0.5555555555555556, \"#d8576b\"], [0.6666666666666666, \"#ed7953\"], [0.7777777777777778, \"#fb9f3a\"], [0.8888888888888888, \"#fdca26\"], [1.0, \"#f0f921\"]], \"type\": \"contour\"}], \"contourcarpet\": [{\"colorbar\": {\"outlinewidth\": 0, \"ticks\": \"\"}, \"type\": \"contourcarpet\"}], \"heatmap\": [{\"colorbar\": {\"outlinewidth\": 0, \"ticks\": \"\"}, \"colorscale\": [[0.0, \"#0d0887\"], [0.1111111111111111, \"#46039f\"], [0.2222222222222222, \"#7201a8\"], [0.3333333333333333, \"#9c179e\"], [0.4444444444444444, \"#bd3786\"], [0.5555555555555556, \"#d8576b\"], [0.6666666666666666, \"#ed7953\"], [0.7777777777777778, \"#fb9f3a\"], [0.8888888888888888, \"#fdca26\"], [1.0, \"#f0f921\"]], \"type\": \"heatmap\"}], \"heatmapgl\": [{\"colorbar\": {\"outlinewidth\": 0, \"ticks\": \"\"}, \"colorscale\": [[0.0, \"#0d0887\"], [0.1111111111111111, \"#46039f\"], [0.2222222222222222, \"#7201a8\"], [0.3333333333333333, \"#9c179e\"], [0.4444444444444444, \"#bd3786\"], [0.5555555555555556, \"#d8576b\"], [0.6666666666666666, \"#ed7953\"], [0.7777777777777778, \"#fb9f3a\"], [0.8888888888888888, \"#fdca26\"], [1.0, \"#f0f921\"]], \"type\": \"heatmapgl\"}], \"histogram\": [{\"marker\": {\"colorbar\": {\"outlinewidth\": 0, \"ticks\": \"\"}}, \"type\": \"histogram\"}], \"histogram2d\": [{\"colorbar\": {\"outlinewidth\": 0, \"ticks\": \"\"}, \"colorscale\": [[0.0, \"#0d0887\"], [0.1111111111111111, \"#46039f\"], [0.2222222222222222, \"#7201a8\"], [0.3333333333333333, \"#9c179e\"], [0.4444444444444444, \"#bd3786\"], [0.5555555555555556, \"#d8576b\"], [0.6666666666666666, \"#ed7953\"], [0.7777777777777778, \"#fb9f3a\"], [0.8888888888888888, \"#fdca26\"], [1.0, \"#f0f921\"]], \"type\": \"histogram2d\"}], \"histogram2dcontour\": [{\"colorbar\": {\"outlinewidth\": 0, \"ticks\": \"\"}, \"colorscale\": [[0.0, \"#0d0887\"], [0.1111111111111111, \"#46039f\"], [0.2222222222222222, \"#7201a8\"], [0.3333333333333333, \"#9c179e\"], [0.4444444444444444, \"#bd3786\"], [0.5555555555555556, \"#d8576b\"], [0.6666666666666666, \"#ed7953\"], [0.7777777777777778, \"#fb9f3a\"], [0.8888888888888888, \"#fdca26\"], [1.0, \"#f0f921\"]], \"type\": \"histogram2dcontour\"}], \"mesh3d\": [{\"colorbar\": {\"outlinewidth\": 0, \"ticks\": \"\"}, \"type\": \"mesh3d\"}], \"parcoords\": [{\"line\": {\"colorbar\": {\"outlinewidth\": 0, \"ticks\": \"\"}}, \"type\": \"parcoords\"}], \"pie\": [{\"automargin\": true, \"type\": \"pie\"}], \"scatter\": [{\"marker\": {\"colorbar\": {\"outlinewidth\": 0, \"ticks\": \"\"}}, \"type\": \"scatter\"}], \"scatter3d\": [{\"line\": {\"colorbar\": {\"outlinewidth\": 0, \"ticks\": \"\"}}, \"marker\": {\"colorbar\": {\"outlinewidth\": 0, \"ticks\": \"\"}}, \"type\": \"scatter3d\"}], \"scattercarpet\": [{\"marker\": {\"colorbar\": {\"outlinewidth\": 0, \"ticks\": \"\"}}, \"type\": \"scattercarpet\"}], \"scattergeo\": [{\"marker\": {\"colorbar\": {\"outlinewidth\": 0, \"ticks\": \"\"}}, \"type\": \"scattergeo\"}], \"scattergl\": [{\"marker\": {\"colorbar\": {\"outlinewidth\": 0, \"ticks\": \"\"}}, \"type\": \"scattergl\"}], \"scattermapbox\": [{\"marker\": {\"colorbar\": {\"outlinewidth\": 0, \"ticks\": \"\"}}, \"type\": \"scattermapbox\"}], \"scatterpolar\": [{\"marker\": {\"colorbar\": {\"outlinewidth\": 0, \"ticks\": \"\"}}, \"type\": \"scatterpolar\"}], \"scatterpolargl\": [{\"marker\": {\"colorbar\": {\"outlinewidth\": 0, \"ticks\": \"\"}}, \"type\": \"scatterpolargl\"}], \"scatterternary\": [{\"marker\": {\"colorbar\": {\"outlinewidth\": 0, \"ticks\": \"\"}}, \"type\": \"scatterternary\"}], \"surface\": [{\"colorbar\": {\"outlinewidth\": 0, \"ticks\": \"\"}, \"colorscale\": [[0.0, \"#0d0887\"], [0.1111111111111111, \"#46039f\"], [0.2222222222222222, \"#7201a8\"], [0.3333333333333333, \"#9c179e\"], [0.4444444444444444, \"#bd3786\"], [0.5555555555555556, \"#d8576b\"], [0.6666666666666666, \"#ed7953\"], [0.7777777777777778, \"#fb9f3a\"], [0.8888888888888888, \"#fdca26\"], [1.0, \"#f0f921\"]], \"type\": \"surface\"}], \"table\": [{\"cells\": {\"fill\": {\"color\": \"#EBF0F8\"}, \"line\": {\"color\": \"white\"}}, \"header\": {\"fill\": {\"color\": \"#C8D4E3\"}, \"line\": {\"color\": \"white\"}}, \"type\": \"table\"}]}, \"layout\": {\"annotationdefaults\": {\"arrowcolor\": \"#2a3f5f\", \"arrowhead\": 0, \"arrowwidth\": 1}, \"coloraxis\": {\"colorbar\": {\"outlinewidth\": 0, \"ticks\": \"\"}}, \"colorscale\": {\"diverging\": [[0, \"#8e0152\"], [0.1, \"#c51b7d\"], [0.2, \"#de77ae\"], [0.3, \"#f1b6da\"], [0.4, \"#fde0ef\"], [0.5, \"#f7f7f7\"], [0.6, \"#e6f5d0\"], [0.7, \"#b8e186\"], [0.8, \"#7fbc41\"], [0.9, \"#4d9221\"], [1, \"#276419\"]], \"sequential\": [[0.0, \"#0d0887\"], [0.1111111111111111, \"#46039f\"], [0.2222222222222222, \"#7201a8\"], [0.3333333333333333, \"#9c179e\"], [0.4444444444444444, \"#bd3786\"], [0.5555555555555556, \"#d8576b\"], [0.6666666666666666, \"#ed7953\"], [0.7777777777777778, \"#fb9f3a\"], [0.8888888888888888, \"#fdca26\"], [1.0, \"#f0f921\"]], \"sequentialminus\": [[0.0, \"#0d0887\"], [0.1111111111111111, \"#46039f\"], [0.2222222222222222, \"#7201a8\"], [0.3333333333333333, \"#9c179e\"], [0.4444444444444444, \"#bd3786\"], [0.5555555555555556, \"#d8576b\"], [0.6666666666666666, \"#ed7953\"], [0.7777777777777778, \"#fb9f3a\"], [0.8888888888888888, \"#fdca26\"], [1.0, \"#f0f921\"]]}, \"colorway\": [\"#636efa\", \"#EF553B\", \"#00cc96\", \"#ab63fa\", \"#FFA15A\", \"#19d3f3\", \"#FF6692\", \"#B6E880\", \"#FF97FF\", \"#FECB52\"], \"font\": {\"color\": \"#2a3f5f\"}, \"geo\": {\"bgcolor\": \"white\", \"lakecolor\": \"white\", \"landcolor\": \"#E5ECF6\", \"showlakes\": true, \"showland\": true, \"subunitcolor\": \"white\"}, \"hoverlabel\": {\"align\": \"left\"}, \"hovermode\": \"closest\", \"mapbox\": {\"style\": \"light\"}, \"paper_bgcolor\": \"white\", \"plot_bgcolor\": \"#E5ECF6\", \"polar\": {\"angularaxis\": {\"gridcolor\": \"white\", \"linecolor\": \"white\", \"ticks\": \"\"}, \"bgcolor\": \"#E5ECF6\", \"radialaxis\": {\"gridcolor\": \"white\", \"linecolor\": \"white\", \"ticks\": \"\"}}, \"scene\": {\"xaxis\": {\"backgroundcolor\": \"#E5ECF6\", \"gridcolor\": \"white\", \"gridwidth\": 2, \"linecolor\": \"white\", \"showbackground\": true, \"ticks\": \"\", \"zerolinecolor\": \"white\"}, \"yaxis\": {\"backgroundcolor\": \"#E5ECF6\", \"gridcolor\": \"white\", \"gridwidth\": 2, \"linecolor\": \"white\", \"showbackground\": true, \"ticks\": \"\", \"zerolinecolor\": \"white\"}, \"zaxis\": {\"backgroundcolor\": \"#E5ECF6\", \"gridcolor\": \"white\", \"gridwidth\": 2, \"linecolor\": \"white\", \"showbackground\": true, \"ticks\": \"\", \"zerolinecolor\": \"white\"}}, \"shapedefaults\": {\"line\": {\"color\": \"#2a3f5f\"}}, \"ternary\": {\"aaxis\": {\"gridcolor\": \"white\", \"linecolor\": \"white\", \"ticks\": \"\"}, \"baxis\": {\"gridcolor\": \"white\", \"linecolor\": \"white\", \"ticks\": \"\"}, \"bgcolor\": \"#E5ECF6\", \"caxis\": {\"gridcolor\": \"white\", \"linecolor\": \"white\", \"ticks\": \"\"}}, \"title\": {\"x\": 0.05}, \"xaxis\": {\"automargin\": true, \"gridcolor\": \"white\", \"linecolor\": \"white\", \"ticks\": \"\", \"title\": {\"standoff\": 15}, \"zerolinecolor\": \"white\", \"zerolinewidth\": 2}, \"yaxis\": {\"automargin\": true, \"gridcolor\": \"white\", \"linecolor\": \"white\", \"ticks\": \"\", \"title\": {\"standoff\": 15}, \"zerolinecolor\": \"white\", \"zerolinewidth\": 2}}}, \"width\": 1280},\n",
              "                        {\"responsive\": true}\n",
              "                    ).then(function(){\n",
              "                            \n",
              "var gd = document.getElementById('bd0628e6-50c5-4846-be84-1ab6ec9ffee7');\n",
              "var x = new MutationObserver(function (mutations, observer) {{\n",
              "        var display = window.getComputedStyle(gd).display;\n",
              "        if (!display || display === 'none') {{\n",
              "            console.log([gd, 'removed!']);\n",
              "            Plotly.purge(gd);\n",
              "            observer.disconnect();\n",
              "        }}\n",
              "}});\n",
              "\n",
              "// Listen for the removal of the full notebook cells\n",
              "var notebookContainer = gd.closest('#notebook-container');\n",
              "if (notebookContainer) {{\n",
              "    x.observe(notebookContainer, {childList: true});\n",
              "}}\n",
              "\n",
              "// Listen for the clearing of the current output cell\n",
              "var outputEl = gd.closest('.output');\n",
              "if (outputEl) {{\n",
              "    x.observe(outputEl, {childList: true});\n",
              "}}\n",
              "\n",
              "                        })\n",
              "                };\n",
              "                \n",
              "            </script>\n",
              "        </div>\n",
              "</body>\n",
              "</html>"
            ]
          },
          "metadata": {
            "tags": []
          },
          "output_type": "display_data"
        }
      ],
      "source": [
        "display_tsne_scatterplot_2D(model, user_input, similar_word, labels, color_map, 20, 500, 10000)"
      ]
    }
  ],
  "metadata": {
    "colab": {
      "collapsed_sections": [],
      "name": "Word2Vec 시각화(PCA, t-SNE)",
      "provenance": [],
      "toc_visible": true
    },
    "kernelspec": {
      "display_name": "Python 3",
      "name": "python3"
    },
    "language_info": {
      "name": "python"
    }
  },
  "nbformat": 4,
  "nbformat_minor": 0
}
