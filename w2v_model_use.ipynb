{
  "cells": [
    {
      "cell_type": "code",
      "execution_count": null,
      "metadata": {},
      "outputs": [],
      "source": [
        "! pip install gensim==4.0.1"
      ]
    },
    {
      "cell_type": "code",
      "execution_count": null,
      "metadata": {
        "colab": {
          "base_uri": "https://localhost:8080/"
        },
        "id": "7KBRFbpyfJ71",
        "outputId": "c7f4d1f7-2d95-44f2-f4ca-2caf02a795b1"
      },
      "outputs": [],
      "source": [
        "from google.colab import drive\n",
        "drive.mount('/content/drive')"
      ]
    },
    {
      "cell_type": "code",
      "execution_count": null,
      "metadata": {
        "id": "zS0QbUcQfBOr"
      },
      "outputs": [],
      "source": [
        "#옵션 1: 영어 코퍼스 불러오기\n",
        "\n",
        "from gensim.models import Word2Vec\n",
        "import pickle\n",
        "\n",
        "with open(\"covid_en_w2v(tokens).pkl\",\"rb\") as fr: \n",
        "    model = pickle.load(fr)"
      ]
    },
    {
      "cell_type": "code",
      "execution_count": null,
      "metadata": {
        "id": "hQJKp_U0fBOu"
      },
      "outputs": [],
      "source": [
        "#옵션 2: 한국어 코퍼스 불러오기\n",
        "\n",
        "from gensim.models import Word2Vec\n",
        "import pickle\n",
        "\n",
        "with open(\"covid_ko_w2v(tokens).pkl\",\"rb\") as fr: \n",
        "    model = pickle.load(fr)"
      ]
    },
    {
      "cell_type": "markdown",
      "metadata": {},
      "source": [
        "# Word2Vec 모델 사용"
      ]
    },
    {
      "cell_type": "markdown",
      "metadata": {},
      "source": [
        "먼저 특정한 키워드와 코사인 유사도가 가까운 상위 n개의 토큰을 출력할 수 있다. "
      ]
    },
    {
      "cell_type": "code",
      "execution_count": null,
      "metadata": {
        "id": "J0xPwx-9fBOv",
        "outputId": "db939b34-cf0f-4ccf-8d10-1e6dc44d12e3"
      },
      "outputs": [],
      "source": [
        "model.wv.most_similar('정부', topn=50)"
      ]
    },
    {
      "cell_type": "markdown",
      "metadata": {},
      "source": [
        "다음으로 특정한 두 개의 키워드 사이의 코사인 유사도를 계산할 수 있다. "
      ]
    },
    {
      "cell_type": "code",
      "execution_count": null,
      "metadata": {
        "id": "xhcvHsubfBOx",
        "outputId": "3d24db88-4fb9-449f-aa61-accdcee62c23"
      },
      "outputs": [],
      "source": [
        "model.wv.similarity('백신', '마스크')"
      ]
    },
    {
      "cell_type": "markdown",
      "metadata": {},
      "source": [
        "`most_similar` 메서드는 `positive` 인수와 `negative` 인수를 사용하여 다음과 같은 단어 간 analogy도 찾을 수 있다."
      ]
    },
    {
      "cell_type": "code",
      "execution_count": null,
      "metadata": {
        "id": "_xofsGM-fBOy",
        "outputId": "982946e3-1a21-46f2-c2eb-b02c9e9dfc81",
        "scrolled": true
      },
      "outputs": [],
      "source": [
        "model.wv.most_similar(positive=['백신', '마스크'], negative= ['자유'], topn=10) #(백신 + 마스크) - 자유"
      ]
    },
    {
      "cell_type": "code",
      "execution_count": null,
      "metadata": {
        "id": "B4HK1gscfBOz",
        "outputId": "307cf929-e04c-4873-d022-5ec89412b9e1"
      },
      "outputs": [],
      "source": [
        "model.wv.doesnt_match('정부 백신 마스크'.split()) #셋 중 가장 관계 없는 단어 출력"
      ]
    },
    {
      "cell_type": "markdown",
      "metadata": {},
      "source": [
        "---"
      ]
    }
  ],
  "metadata": {
    "accelerator": "GPU",
    "colab": {
      "name": "w2v model use.ipynb",
      "provenance": []
    },
    "kernelspec": {
      "display_name": "Python 3",
      "language": "python",
      "name": "python3"
    },
    "language_info": {
      "codemirror_mode": {
        "name": "ipython",
        "version": 3
      },
      "file_extension": ".py",
      "mimetype": "text/x-python",
      "name": "python",
      "nbconvert_exporter": "python",
      "pygments_lexer": "ipython3",
      "version": "3.8.5"
    }
  },
  "nbformat": 4,
  "nbformat_minor": 0
}
